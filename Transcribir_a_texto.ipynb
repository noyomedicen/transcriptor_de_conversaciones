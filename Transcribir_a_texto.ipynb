{
  "nbformat": 4,
  "nbformat_minor": 0,
  "metadata": {
    "colab": {
      "provenance": [],
      "gpuType": "T4",
      "authorship_tag": "ABX9TyO64WLZyas3uaSMkeq3Jdid"
    },
    "kernelspec": {
      "name": "python3",
      "display_name": "Python 3"
    },
    "language_info": {
      "name": "python"
    },
    "accelerator": "GPU"
  },
  "cells": [
    {
      "cell_type": "markdown",
      "source": [
        "### Instalar librerias"
      ],
      "metadata": {
        "id": "qFAIB5_aEnvO"
      }
    },
    {
      "cell_type": "code",
      "execution_count": null,
      "metadata": {
        "colab": {
          "base_uri": "https://localhost:8080/"
        },
        "id": "hvQdf-vxRMkT",
        "outputId": "1209bce3-5391-4259-c5ff-f13977d7e11b"
      },
      "outputs": [
        {
          "output_type": "stream",
          "name": "stdout",
          "text": [
            "Collecting git+https://github.com/openai/whisper.git\n",
            "  Cloning https://github.com/openai/whisper.git to /tmp/pip-req-build-1g_z7q13\n",
            "  Running command git clone --filter=blob:none --quiet https://github.com/openai/whisper.git /tmp/pip-req-build-1g_z7q13\n",
            "  Resolved https://github.com/openai/whisper.git to commit 279133e3107392276dc509148da1f41bfb532c7e\n",
            "  Installing build dependencies ... \u001b[?25l\u001b[?25hdone\n",
            "  Getting requirements to build wheel ... \u001b[?25l\u001b[?25hdone\n",
            "  Preparing metadata (pyproject.toml) ... \u001b[?25l\u001b[?25hdone\n",
            "Requirement already satisfied: numba in /usr/local/lib/python3.10/dist-packages (from openai-whisper==20231117) (0.60.0)\n",
            "Requirement already satisfied: numpy in /usr/local/lib/python3.10/dist-packages (from openai-whisper==20231117) (1.26.4)\n",
            "Requirement already satisfied: torch in /usr/local/lib/python3.10/dist-packages (from openai-whisper==20231117) (2.4.1+cu121)\n",
            "Requirement already satisfied: tqdm in /usr/local/lib/python3.10/dist-packages (from openai-whisper==20231117) (4.66.5)\n",
            "Requirement already satisfied: more-itertools in /usr/local/lib/python3.10/dist-packages (from openai-whisper==20231117) (10.5.0)\n",
            "Collecting tiktoken (from openai-whisper==20231117)\n",
            "  Downloading tiktoken-0.7.0-cp310-cp310-manylinux_2_17_x86_64.manylinux2014_x86_64.whl.metadata (6.6 kB)\n",
            "Collecting triton>=2.0.0 (from openai-whisper==20231117)\n",
            "  Downloading triton-3.0.0-1-cp310-cp310-manylinux2014_x86_64.manylinux_2_17_x86_64.whl.metadata (1.3 kB)\n",
            "Requirement already satisfied: filelock in /usr/local/lib/python3.10/dist-packages (from triton>=2.0.0->openai-whisper==20231117) (3.16.1)\n",
            "Requirement already satisfied: llvmlite<0.44,>=0.43.0dev0 in /usr/local/lib/python3.10/dist-packages (from numba->openai-whisper==20231117) (0.43.0)\n",
            "Requirement already satisfied: regex>=2022.1.18 in /usr/local/lib/python3.10/dist-packages (from tiktoken->openai-whisper==20231117) (2024.9.11)\n",
            "Requirement already satisfied: requests>=2.26.0 in /usr/local/lib/python3.10/dist-packages (from tiktoken->openai-whisper==20231117) (2.32.3)\n",
            "Requirement already satisfied: typing-extensions>=4.8.0 in /usr/local/lib/python3.10/dist-packages (from torch->openai-whisper==20231117) (4.12.2)\n",
            "Requirement already satisfied: sympy in /usr/local/lib/python3.10/dist-packages (from torch->openai-whisper==20231117) (1.13.3)\n",
            "Requirement already satisfied: networkx in /usr/local/lib/python3.10/dist-packages (from torch->openai-whisper==20231117) (3.3)\n",
            "Requirement already satisfied: jinja2 in /usr/local/lib/python3.10/dist-packages (from torch->openai-whisper==20231117) (3.1.4)\n",
            "Requirement already satisfied: fsspec in /usr/local/lib/python3.10/dist-packages (from torch->openai-whisper==20231117) (2024.6.1)\n",
            "Requirement already satisfied: charset-normalizer<4,>=2 in /usr/local/lib/python3.10/dist-packages (from requests>=2.26.0->tiktoken->openai-whisper==20231117) (3.3.2)\n",
            "Requirement already satisfied: idna<4,>=2.5 in /usr/local/lib/python3.10/dist-packages (from requests>=2.26.0->tiktoken->openai-whisper==20231117) (3.10)\n",
            "Requirement already satisfied: urllib3<3,>=1.21.1 in /usr/local/lib/python3.10/dist-packages (from requests>=2.26.0->tiktoken->openai-whisper==20231117) (2.2.3)\n",
            "Requirement already satisfied: certifi>=2017.4.17 in /usr/local/lib/python3.10/dist-packages (from requests>=2.26.0->tiktoken->openai-whisper==20231117) (2024.8.30)\n",
            "Requirement already satisfied: MarkupSafe>=2.0 in /usr/local/lib/python3.10/dist-packages (from jinja2->torch->openai-whisper==20231117) (2.1.5)\n",
            "Requirement already satisfied: mpmath<1.4,>=1.1.0 in /usr/local/lib/python3.10/dist-packages (from sympy->torch->openai-whisper==20231117) (1.3.0)\n",
            "Downloading triton-3.0.0-1-cp310-cp310-manylinux2014_x86_64.manylinux_2_17_x86_64.whl (209.4 MB)\n",
            "\u001b[2K   \u001b[90m━━━━━━━━━━━━━━━━━━━━━━━━━━━━━━━━━━━━━━━━\u001b[0m \u001b[32m209.4/209.4 MB\u001b[0m \u001b[31m6.6 MB/s\u001b[0m eta \u001b[36m0:00:00\u001b[0m\n",
            "\u001b[?25hDownloading tiktoken-0.7.0-cp310-cp310-manylinux_2_17_x86_64.manylinux2014_x86_64.whl (1.1 MB)\n",
            "\u001b[2K   \u001b[90m━━━━━━━━━━━━━━━━━━━━━━━━━━━━━━━━━━━━━━━━\u001b[0m \u001b[32m1.1/1.1 MB\u001b[0m \u001b[31m33.1 MB/s\u001b[0m eta \u001b[36m0:00:00\u001b[0m\n",
            "\u001b[?25hBuilding wheels for collected packages: openai-whisper\n",
            "  Building wheel for openai-whisper (pyproject.toml) ... \u001b[?25l\u001b[?25hdone\n",
            "  Created wheel for openai-whisper: filename=openai_whisper-20231117-py3-none-any.whl size=802819 sha256=b7f8839fd7e46c35bc6ddac1fbdb5a128b8e50153d9a648e659d3f1b0a95f010\n",
            "  Stored in directory: /tmp/pip-ephem-wheel-cache-b09zjjdo/wheels/8b/6c/d0/622666868c179f156cf595c8b6f06f88bc5d80c4b31dccaa03\n",
            "Successfully built openai-whisper\n",
            "Installing collected packages: triton, tiktoken, openai-whisper\n",
            "Successfully installed openai-whisper-20231117 tiktoken-0.7.0 triton-3.0.0\n",
            "Requirement already satisfied: torch in /usr/local/lib/python3.10/dist-packages (2.4.1+cu121)\n",
            "Requirement already satisfied: filelock in /usr/local/lib/python3.10/dist-packages (from torch) (3.16.1)\n",
            "Requirement already satisfied: typing-extensions>=4.8.0 in /usr/local/lib/python3.10/dist-packages (from torch) (4.12.2)\n",
            "Requirement already satisfied: sympy in /usr/local/lib/python3.10/dist-packages (from torch) (1.13.3)\n",
            "Requirement already satisfied: networkx in /usr/local/lib/python3.10/dist-packages (from torch) (3.3)\n",
            "Requirement already satisfied: jinja2 in /usr/local/lib/python3.10/dist-packages (from torch) (3.1.4)\n",
            "Requirement already satisfied: fsspec in /usr/local/lib/python3.10/dist-packages (from torch) (2024.6.1)\n",
            "Requirement already satisfied: MarkupSafe>=2.0 in /usr/local/lib/python3.10/dist-packages (from jinja2->torch) (2.1.5)\n",
            "Requirement already satisfied: mpmath<1.4,>=1.1.0 in /usr/local/lib/python3.10/dist-packages (from sympy->torch) (1.3.0)\n",
            "Collecting pydub\n",
            "  Downloading pydub-0.25.1-py2.py3-none-any.whl.metadata (1.4 kB)\n",
            "Downloading pydub-0.25.1-py2.py3-none-any.whl (32 kB)\n",
            "Installing collected packages: pydub\n",
            "Successfully installed pydub-0.25.1\n",
            "Reading package lists... Done\n",
            "Building dependency tree... Done\n",
            "Reading state information... Done\n",
            "ffmpeg is already the newest version (7:4.4.2-0ubuntu0.22.04.1).\n",
            "0 upgraded, 0 newly installed, 0 to remove and 49 not upgraded.\n",
            "Collecting openai\n",
            "  Downloading openai-1.50.1-py3-none-any.whl.metadata (24 kB)\n",
            "Requirement already satisfied: anyio<5,>=3.5.0 in /usr/local/lib/python3.10/dist-packages (from openai) (3.7.1)\n",
            "Requirement already satisfied: distro<2,>=1.7.0 in /usr/lib/python3/dist-packages (from openai) (1.7.0)\n",
            "Collecting httpx<1,>=0.23.0 (from openai)\n",
            "  Downloading httpx-0.27.2-py3-none-any.whl.metadata (7.1 kB)\n",
            "Collecting jiter<1,>=0.4.0 (from openai)\n",
            "  Downloading jiter-0.5.0-cp310-cp310-manylinux_2_17_x86_64.manylinux2014_x86_64.whl.metadata (3.6 kB)\n",
            "Requirement already satisfied: pydantic<3,>=1.9.0 in /usr/local/lib/python3.10/dist-packages (from openai) (2.9.2)\n",
            "Requirement already satisfied: sniffio in /usr/local/lib/python3.10/dist-packages (from openai) (1.3.1)\n",
            "Requirement already satisfied: tqdm>4 in /usr/local/lib/python3.10/dist-packages (from openai) (4.66.5)\n",
            "Requirement already satisfied: typing-extensions<5,>=4.11 in /usr/local/lib/python3.10/dist-packages (from openai) (4.12.2)\n",
            "Requirement already satisfied: idna>=2.8 in /usr/local/lib/python3.10/dist-packages (from anyio<5,>=3.5.0->openai) (3.10)\n",
            "Requirement already satisfied: exceptiongroup in /usr/local/lib/python3.10/dist-packages (from anyio<5,>=3.5.0->openai) (1.2.2)\n",
            "Requirement already satisfied: certifi in /usr/local/lib/python3.10/dist-packages (from httpx<1,>=0.23.0->openai) (2024.8.30)\n",
            "Collecting httpcore==1.* (from httpx<1,>=0.23.0->openai)\n",
            "  Downloading httpcore-1.0.5-py3-none-any.whl.metadata (20 kB)\n",
            "Collecting h11<0.15,>=0.13 (from httpcore==1.*->httpx<1,>=0.23.0->openai)\n",
            "  Downloading h11-0.14.0-py3-none-any.whl.metadata (8.2 kB)\n",
            "Requirement already satisfied: annotated-types>=0.6.0 in /usr/local/lib/python3.10/dist-packages (from pydantic<3,>=1.9.0->openai) (0.7.0)\n",
            "Requirement already satisfied: pydantic-core==2.23.4 in /usr/local/lib/python3.10/dist-packages (from pydantic<3,>=1.9.0->openai) (2.23.4)\n",
            "Downloading openai-1.50.1-py3-none-any.whl (378 kB)\n",
            "\u001b[2K   \u001b[90m━━━━━━━━━━━━━━━━━━━━━━━━━━━━━━━━━━━━━━━━\u001b[0m \u001b[32m378.9/378.9 kB\u001b[0m \u001b[31m14.2 MB/s\u001b[0m eta \u001b[36m0:00:00\u001b[0m\n",
            "\u001b[?25hDownloading httpx-0.27.2-py3-none-any.whl (76 kB)\n",
            "\u001b[2K   \u001b[90m━━━━━━━━━━━━━━━━━━━━━━━━━━━━━━━━━━━━━━━━\u001b[0m \u001b[32m76.4/76.4 kB\u001b[0m \u001b[31m7.3 MB/s\u001b[0m eta \u001b[36m0:00:00\u001b[0m\n",
            "\u001b[?25hDownloading httpcore-1.0.5-py3-none-any.whl (77 kB)\n",
            "\u001b[2K   \u001b[90m━━━━━━━━━━━━━━━━━━━━━━━━━━━━━━━━━━━━━━━━\u001b[0m \u001b[32m77.9/77.9 kB\u001b[0m \u001b[31m6.5 MB/s\u001b[0m eta \u001b[36m0:00:00\u001b[0m\n",
            "\u001b[?25hDownloading jiter-0.5.0-cp310-cp310-manylinux_2_17_x86_64.manylinux2014_x86_64.whl (318 kB)\n",
            "\u001b[2K   \u001b[90m━━━━━━━━━━━━━━━━━━━━━━━━━━━━━━━━━━━━━━━━\u001b[0m \u001b[32m318.9/318.9 kB\u001b[0m \u001b[31m27.7 MB/s\u001b[0m eta \u001b[36m0:00:00\u001b[0m\n",
            "\u001b[?25hDownloading h11-0.14.0-py3-none-any.whl (58 kB)\n",
            "\u001b[2K   \u001b[90m━━━━━━━━━━━━━━━━━━━━━━━━━━━━━━━━━━━━━━━━\u001b[0m \u001b[32m58.3/58.3 kB\u001b[0m \u001b[31m4.9 MB/s\u001b[0m eta \u001b[36m0:00:00\u001b[0m\n",
            "\u001b[?25hInstalling collected packages: jiter, h11, httpcore, httpx, openai\n",
            "Successfully installed h11-0.14.0 httpcore-1.0.5 httpx-0.27.2 jiter-0.5.0 openai-1.50.1\n"
          ]
        }
      ],
      "source": [
        "!pip install git+https://github.com/openai/whisper.git\n",
        "!pip install torch\n",
        "!pip install pydub\n",
        "!apt-get install ffmpeg\n",
        "!pip install --upgrade openai"
      ]
    },
    {
      "cell_type": "markdown",
      "source": [
        "## Importar librerias"
      ],
      "metadata": {
        "id": "YYfv22aVEu3G"
      }
    },
    {
      "cell_type": "code",
      "source": [
        "import os\n",
        "from openai import OpenAI\n",
        "import pandas as pd\n",
        "import whisper\n",
        "import os\n",
        "from pydub import AudioSegment\n",
        "import subprocess\n",
        "import math\n",
        "from datetime import datetime"
      ],
      "metadata": {
        "id": "VL-_7uaERsyN"
      },
      "execution_count": null,
      "outputs": []
    },
    {
      "cell_type": "code",
      "source": [
        "# Montar Google Drive\n",
        "from google.colab import drive\n",
        "drive.mount('/content/drive')"
      ],
      "metadata": {
        "colab": {
          "base_uri": "https://localhost:8080/"
        },
        "id": "s48Fp-6WR1Ae",
        "outputId": "d8cd79f4-15c0-400a-c024-383b1fcaf6a8"
      },
      "execution_count": null,
      "outputs": [
        {
          "output_type": "stream",
          "name": "stdout",
          "text": [
            "Mounted at /content/drive\n"
          ]
        }
      ]
    },
    {
      "cell_type": "markdown",
      "source": [
        "## Unificar audios\n"
      ],
      "metadata": {
        "id": "qEk1z48RxnDU"
      }
    },
    {
      "cell_type": "code",
      "source": [
        "# Ruta de la carpeta con los archivos de audio\n",
        "audios_path = 'Tu_ruta_aca'"
      ],
      "metadata": {
        "id": "ZsjR4NE2mmQL"
      },
      "execution_count": null,
      "outputs": []
    },
    {
      "cell_type": "code",
      "source": [
        "# Convertir archivos M4A a MP4\n",
        "m4a_files = [f for f in os.listdir(audios_path) if f.endswith('.m4a')]\n",
        "\n",
        "for m4a_file in m4a_files:\n",
        "    input_file = os.path.join(audios_path, m4a_file)\n",
        "    mp4_file = os.path.splitext(m4a_file)[0] + '.mp4'\n",
        "    output_file = os.path.join(audios_path, mp4_file)\n",
        "\n",
        "    # Comando FFmpeg para convertir M4A a MP4\n",
        "    subprocess.call(['ffmpeg', '-i', input_file, '-c', 'copy', output_file])"
      ],
      "metadata": {
        "id": "IMwngMjAl4bH"
      },
      "execution_count": null,
      "outputs": []
    },
    {
      "cell_type": "code",
      "source": [
        "# Lista de archivos mp4 en la carpeta\n",
        "audio_files = sorted([f for f in os.listdir(audios_path) if f.endswith('.mp4')], key=lambda x: int(x.split('.')[0]))\n",
        "\n",
        "# Crear un objeto de audio unificado\n",
        "unified_audio = AudioSegment.empty()"
      ],
      "metadata": {
        "id": "xPRDUEaJwsYK"
      },
      "execution_count": null,
      "outputs": []
    },
    {
      "cell_type": "code",
      "source": [
        "# Unir los archivos en uno solo\n",
        "for audio_file in audio_files:\n",
        "    audio_path = os.path.join(audios_path, audio_file)\n",
        "    audio = AudioSegment.from_file(audio_path, format='mp4')\n",
        "    unified_audio += audio\n",
        "\n",
        "# Guardar el archivo unificado\n",
        "unified_audio_path = os.path.join(audios_path, \"audio_unificado.mp4\")\n",
        "unified_audio.export(unified_audio_path, format='mp4')\n",
        "\n",
        "print(f\"Archivo unificado guardado en: {unified_audio_path}\")"
      ],
      "metadata": {
        "colab": {
          "base_uri": "https://localhost:8080/"
        },
        "id": "ob6W26cMwxcg",
        "outputId": "a9b927b3-369b-4f9c-d461-637862b333cd"
      },
      "execution_count": null,
      "outputs": [
        {
          "output_type": "stream",
          "name": "stdout",
          "text": [
            "Archivo unificado guardado en: /content/drive/MyDrive/Proyectos/Transcribir a texto/Entrada/audio_unificado.mp4\n"
          ]
        }
      ]
    },
    {
      "cell_type": "markdown",
      "source": [
        "## Estandarizacion de audios"
      ],
      "metadata": {
        "id": "CBxwbRWfxtcW"
      }
    },
    {
      "cell_type": "code",
      "source": [
        "# Ruta de la carpeta donde se guardarán los audios divididos\n",
        "output_path = 'Tu_ruta'\n",
        "\n",
        "# Duración en milisegundos (5 minutos = 300000 ms)\n",
        "chunk_length_ms = 5 * 60 * 1000\n",
        "\n",
        "# Cargar el archivo de audio unificado\n",
        "unified_audio = AudioSegment.from_file(unified_audio_path, format='mp4')\n",
        "\n",
        "# Calcular cuántos fragmentos de 5 minutos se necesitan\n",
        "num_chunks = math.ceil(len(unified_audio) / chunk_length_ms)"
      ],
      "metadata": {
        "id": "teuLT_j_x0zL"
      },
      "execution_count": null,
      "outputs": []
    },
    {
      "cell_type": "code",
      "source": [
        "# Dividir y guardar los fragmentos\n",
        "for i in range(num_chunks):\n",
        "    start_time = i * chunk_length_ms\n",
        "    end_time = min((i + 1) * chunk_length_ms, len(unified_audio))\n",
        "    audio_chunk = unified_audio[start_time:end_time]\n",
        "\n",
        "    chunk_filename = f\"{i+1}.mp4\"\n",
        "    chunk_path = os.path.join(output_path, chunk_filename)\n",
        "\n",
        "    # Guardar el fragmento\n",
        "    audio_chunk.export(chunk_path, format='mp4')\n",
        "    print(f\"Guardado: {chunk_filename}\")"
      ],
      "metadata": {
        "colab": {
          "base_uri": "https://localhost:8080/"
        },
        "id": "1ztYkKKpy0On",
        "outputId": "d82e80c7-2735-468c-dfb6-68fcb01d4b43"
      },
      "execution_count": null,
      "outputs": [
        {
          "output_type": "stream",
          "name": "stdout",
          "text": [
            "Guardado: 1.mp4\n",
            "Guardado: 2.mp4\n",
            "Guardado: 3.mp4\n",
            "Guardado: 4.mp4\n",
            "Guardado: 5.mp4\n",
            "Guardado: 6.mp4\n",
            "Guardado: 7.mp4\n",
            "Guardado: 8.mp4\n",
            "Guardado: 9.mp4\n",
            "Guardado: 10.mp4\n",
            "Guardado: 11.mp4\n",
            "Guardado: 12.mp4\n",
            "Guardado: 13.mp4\n",
            "Guardado: 14.mp4\n",
            "Guardado: 15.mp4\n",
            "Guardado: 16.mp4\n",
            "Guardado: 17.mp4\n",
            "Guardado: 18.mp4\n",
            "Guardado: 19.mp4\n"
          ]
        }
      ]
    },
    {
      "cell_type": "code",
      "source": [
        "# Eliminar todos los archivos en la carpeta 'Entrada'\n",
        "for file in os.listdir(audios_path):\n",
        "    file_path = os.path.join(audios_path, file)\n",
        "    try:\n",
        "        if os.path.isfile(file_path):\n",
        "            os.remove(file_path)\n",
        "            print(f\"Eliminado: {file_path}\")\n",
        "    except Exception as e:\n",
        "        print(f\"Error al eliminar {file_path}: {e}\")"
      ],
      "metadata": {
        "colab": {
          "base_uri": "https://localhost:8080/"
        },
        "id": "ddkojAK8D-pY",
        "outputId": "a37ca047-24c5-437d-83f3-927f5b34d900"
      },
      "execution_count": null,
      "outputs": [
        {
          "output_type": "stream",
          "name": "stdout",
          "text": [
            "Eliminado: /content/drive/MyDrive/Proyectos/Transcribir a texto/Entrada/1.m4a\n",
            "Eliminado: /content/drive/MyDrive/Proyectos/Transcribir a texto/Entrada/2.m4a\n",
            "Eliminado: /content/drive/MyDrive/Proyectos/Transcribir a texto/Entrada/3.m4a\n",
            "Eliminado: /content/drive/MyDrive/Proyectos/Transcribir a texto/Entrada/1.mp4\n",
            "Eliminado: /content/drive/MyDrive/Proyectos/Transcribir a texto/Entrada/2.mp4\n",
            "Eliminado: /content/drive/MyDrive/Proyectos/Transcribir a texto/Entrada/3.mp4\n",
            "Eliminado: /content/drive/MyDrive/Proyectos/Transcribir a texto/Entrada/audio_unificado.mp4\n"
          ]
        }
      ]
    },
    {
      "cell_type": "markdown",
      "source": [
        "## Transcribir audios"
      ],
      "metadata": {
        "id": "Zc5Poc2h9o0a"
      }
    },
    {
      "cell_type": "code",
      "source": [
        "# Configurar la API de OpenAI\n",
        "OPENAI_API_KEY = 'Tu_clave_de_openia'\n",
        "# Configurar el cliente asíncrono\n",
        "client = OpenAI(\n",
        "    api_key=OPENAI_API_KEY\n",
        ")"
      ],
      "metadata": {
        "id": "gJSEN_vXMLyk"
      },
      "execution_count": null,
      "outputs": []
    },
    {
      "cell_type": "code",
      "source": [
        "# Ruta de los audios estandarizados (donde están los archivos de audio de 5 minutos)\n",
        "audios_path = 'Tu_ruta_aca'\n",
        "\n",
        "# Ruta donde se guardarán los archivos de texto\n",
        "text_output_path = 'Tu_ruta_aca'\n",
        "\n",
        "# Cargar el modelo Whisper\n",
        "model = whisper.load_model(\"base\")"
      ],
      "metadata": {
        "colab": {
          "base_uri": "https://localhost:8080/"
        },
        "id": "7wBut_PL9wQM",
        "outputId": "20fa7de6-0ed7-47cf-f88b-e05cab8b9d6b"
      },
      "execution_count": null,
      "outputs": [
        {
          "output_type": "stream",
          "name": "stderr",
          "text": [
            "100%|███████████████████████████████████████| 139M/139M [00:01<00:00, 87.6MiB/s]\n",
            "/usr/local/lib/python3.10/dist-packages/whisper/__init__.py:146: FutureWarning: You are using `torch.load` with `weights_only=False` (the current default value), which uses the default pickle module implicitly. It is possible to construct malicious pickle data which will execute arbitrary code during unpickling (See https://github.com/pytorch/pytorch/blob/main/SECURITY.md#untrusted-models for more details). In a future release, the default value for `weights_only` will be flipped to `True`. This limits the functions that could be executed during unpickling. Arbitrary objects will no longer be allowed to be loaded via this mode unless they are explicitly allowlisted by the user via `torch.serialization.add_safe_globals`. We recommend you start setting `weights_only=True` for any use case where you don't have full control of the loaded file. Please open an issue on GitHub for any issues related to this experimental feature.\n",
            "  checkpoint = torch.load(fp, map_location=device)\n"
          ]
        }
      ]
    },
    {
      "cell_type": "code",
      "source": [
        "# Función para transcribir audios y mejorar la redacción\n",
        "def transcribe_and_improve_audios(audios_path):\n",
        "    n = 0\n",
        "    unified_transcription = \"\"\n",
        "\n",
        "    # Obtener lista de archivos de audio en la carpeta\n",
        "    audio_files = sorted(\n",
        "        [f for f in os.listdir(audios_path) if f.endswith('.mp4')],\n",
        "        key=lambda x: int(os.path.splitext(x)[0])\n",
        "    )\n",
        "\n",
        "    for audio_file in audio_files:\n",
        "        audio_path = os.path.join(audios_path, audio_file)\n",
        "\n",
        "        # Verificar si el archivo de audio existe\n",
        "        if not os.path.exists(audio_path):\n",
        "            print(f\"Archivo de audio no encontrado: {audio_path}\")\n",
        "            continue\n",
        "\n",
        "        try:\n",
        "            # Transcribir el audio usando tu modelo (por ejemplo, Whisper)\n",
        "            result = model.transcribe(audio_path, fp16=False)\n",
        "            text = result['text']\n",
        "\n",
        "            print(f\"Audio transcrito: {audio_path}\")\n",
        "            print(f\"Texto: {text}\")\n",
        "\n",
        "            # Mejorar la redacción usando la API de OpenAI\n",
        "            retry_count = 0\n",
        "            max_retries = 2  # Número máximo de intentos\n",
        "\n",
        "            while retry_count < max_retries:\n",
        "                try:\n",
        "                    improved_text = improve_transcription(text)\n",
        "                    # Si la mejora es exitosa, salimos del bucle de reintento\n",
        "                    break\n",
        "                except Exception as e:\n",
        "                    retry_count += 1\n",
        "                    print(f\"Error al mejorar la transcripción: {e}\")\n",
        "                    if retry_count < max_retries:\n",
        "                        print(f\"Reintentando mejorar la transcripción ({retry_count}/{max_retries})...\")\n",
        "                    else:\n",
        "                        print(\"No se pudo mejorar el texto después de varios intentos.\")\n",
        "                        improved_text = \"No se pudo mejorar el texto debido a un error.\"\n",
        "\n",
        "            # Añadir el texto mejorado al archivo unificado\n",
        "            unified_transcription += f\"\\n\\n=== Transcripción de {audio_file} ===\\n\\n{improved_text}\\n\"\n",
        "\n",
        "        except Exception as e:\n",
        "            print(f\"Error al transcribir el audio {audio_file}: {e}\")\n",
        "\n",
        "    # Guardar el archivo unificado con todas las transcripciones mejoradas\n",
        "    today_date = datetime.today().strftime('%Y-%m-%d')\n",
        "    unified_txt_path = os.path.join(text_output_path, f'transcripcion_unificada_mejorada_{today_date}.txt')\n",
        "\n",
        "    with open(unified_txt_path, 'w', encoding='utf-8') as f:\n",
        "        f.write(unified_transcription)\n",
        "    print(n)\n",
        "    print(f\"Transcripción unificada mejorada guardada en: {unified_txt_path}\")\n",
        "\n",
        "    # Generar el resumen final\n",
        "    summary = generate_summary(unified_transcription)\n",
        "\n",
        "    # Guardar el resumen en un archivo\n",
        "    summary_txt_path = os.path.join(text_output_path, f'resumen_{today_date}.txt')\n",
        "\n",
        "    with open(summary_txt_path, 'w', encoding='utf-8') as f:\n",
        "        f.write(summary)\n",
        "\n",
        "    print(f\"Resumen guardado en: {summary_txt_path}\")\n",
        "\n",
        "# Función para mejorar la transcripción utilizando la API de OpenAI\n",
        "def improve_transcription(text):\n",
        "    prompt = f\"\"\"He transcrito un fragmento de una reunión donde un líder de área explica un macroproceso. El texto puede contener errores de transcripción, interrupciones y preguntas de otros participantes.\n",
        "\n",
        "Tu tarea es:\n",
        "\n",
        "- Corregir los errores de transcripción y mejorar la redacción donde sea necesario.\n",
        "- Ignorar las interrupciones y preguntas que no aporten al contenido principal.\n",
        "- Unificar la información proporcionada por el líder del área sobre el macroproceso.\n",
        "\n",
        "Fragmento de la transcripción:\n",
        "\n",
        "{text}\n",
        "\n",
        "Por favor, proporciona el texto corregido y mejorado a continuación.\"\"\"\n",
        "\n",
        "    # Llamada a la API de OpenAI según tu formato específico\n",
        "    completion = client.chat.completions.create(\n",
        "        model=\"gpt-4o-mini\",  # Asegúrate de que este es el modelo correcto\n",
        "        messages=[\n",
        "            {\n",
        "                \"role\": \"user\",\n",
        "                \"content\": f\"{prompt}\",\n",
        "            },\n",
        "        ],\n",
        "    )\n",
        "\n",
        "    # Procesar la respuesta de la API\n",
        "    improved_text = completion.choices[0].message.content.strip()\n",
        "    return improved_text\n",
        "\n",
        "# Función para generar el resumen\n",
        "def generate_summary(unified_transcription):\n",
        "    prompt = f\"\"\"He recopilado la siguiente transcripción mejorada de una reunión donde un líder de área explica un macroproceso:\n",
        "\n",
        "{unified_transcription}\n",
        "\n",
        "Por favor, genera un resumen claro y conciso de los puntos principales discutidos por el líder del área.\"\"\"\n",
        "\n",
        "    # Llamada a la API de OpenAI según tu formato específico\n",
        "    completion = client.chat.completions.create(\n",
        "        model=\"gpt-4o-mini\",\n",
        "        messages=[\n",
        "            {\n",
        "                \"role\": \"user\",\n",
        "                \"content\": f\"{prompt}\",\n",
        "            },\n",
        "        ],\n",
        "    )\n",
        "\n",
        "    # Procesar la respuesta de la API\n",
        "    summary = completion.choices[0].message.content.strip()\n",
        "    return summary"
      ],
      "metadata": {
        "id": "3aG2Zhdx9odk"
      },
      "execution_count": null,
      "outputs": []
    },
    {
      "cell_type": "code",
      "source": [
        "# Llamar a la función para transcribir y mejorar los audios\n",
        "transcribe_and_improve_audios(audios_path)"
      ],
      "metadata": {
        "colab": {
          "base_uri": "https://localhost:8080/"
        },
        "id": "j52YwBqb-GyF",
        "outputId": "91bb00a9-924c-4af2-da15-eb1f426fae22"
      },
      "execution_count": null,
      "outputs": [
        {
          "output_type": "stream",
          "name": "stdout",
          "text": [
            "Audio transcrito: /content/drive/MyDrive/Proyectos/Transcribir a texto/Audios estandarizados/1.mp4\n",
            "Texto:  Malianza sur ya con referencia de las aplicaciones, ya os hemos dicho la necesidad de aplicar, pero en la que está a la hora de estar, ya estamos implementando, no, no, nosotros estamos, ya tenemos información, también no es capaz de validar, es como, este son fotos atalitales, de vez porque si te has dicho que la distancia de campo, te sé cómo lo tienes, te has creado, como ellos van, recorre, mira, ni se aquí malesa, se juntan en día, jueves, diseñen, bueno, te muro necesidad para explicar a 100 semanas, y antes, en función de eso, ya viene a salir a necesidad, se ponen de acuerdo con las que es producción, los dos de la gente de este de ese, y a viene y le hace una necesidad para aplicaciones a él, entonces allá le da punta, eso lo hacía ahí, porque si hubo ahora va a ser a lo largo, o sea, lo van a hacer, punta la necesidad de nuestros compañeros, y ahora viene y se lo mandan las necesidades a vuelto. Ahora, solo vamos a ir por parte para el hombre y la gente, una vez la propuesta, a ver, la propuesta de la hostilidad, a ver los tipos de comienzo, y un pequeño para la recencia de la propuesta astronauta, para las organizas, si es como por el supuesto de las labores que si tienen acabo o no para así, o sea, ¿qué es lo que es lo de la dos? Eso no lo vas a no tener de tener, entrar, lo monta, si, ya, vamos por redes. Maliasas, eso lo trabaja en la propuesta. ¿Qué es lo de la propuesta? Ah, ¿qué es lo de la propuesta? Y con lo que con nosotros va a estar ahí, si es un asesón en la propuesta. Pero no le quiera dar la propuesta de la vida. Al final lo suerte de la propuesta, lo que es la propuesta de la propuesta, más o menos. Sí, yo te termina. Ellos no son de levantar con la información. Es una historia con la propuesta de la eleparza, y más o menos, sí, no es que la le queremos ni la opuesta de la información, y ya valida y meten su propuesta. Pues draws a las muestras y chaos de la gente que va luego a traercielse… Y overlap. Estan utilizando la plana del portal lo muy importante es que el poder 좋아 Score y hace juntan con el jefe de producción todos esos tres cuatro son no, esos tres son no, esos tres son está a milí y es el sí y es todo el el monitor también está a milí el monitor, el monitor el monitor, el monitor el monitor, el monitor ahora el micán se como parece un un micán de trabajo, está por rápido está ahí, no que el niño y el señor también, no que el de fin y a veces, también está el saludo a la realidad ¿Qué es el otro de dónde es tú? también la necesidad de practicar ¿Pas la verdad? A ver, realmente, ¿a ver? ¿Precidamente la solicitud es tomar fotografías? y hace un poco un dos, ¿te deseas? este, y el saludo ¿Has llegado este plenificado a 12, können служ dolphin? Aquí no puedo ver Yo se Fill si aquí estos rotes de roías son problemáticos si quieren esto, ¿me can Son bersungos? hay el monitoring cómo esыл Tiene que agarrar que los dos no tienen de деньги y de los torres. O sea, ¿de dónde es el servicio? ¿Por qué es el proceso de los demás? Es que decir, ver que esos torres se están apoyando su función, realmente, fue la toma de fotografías para dar y reciendo. Pero, como es que en momentos de espacios libres o espacios de no os pueden apoyar, no os salen a apoyar, desde que buscamos como esa alternativa que nos apoyaran a nosotros para poder valer. Y, ¿por qué no? ¿Por qué no? ¿Por qué no? Ya han sido usables en el cópito.\n",
            "Audio transcrito: /content/drive/MyDrive/Proyectos/Transcribir a texto/Audios estandarizados/2.mp4\n",
            "Texto:  de lo que se va a hacer. No, eh? Perfectamente es un servicio porque no es lo que es. Por lo tanto, es que hay que poner también a mí como parte de los sesos que se se va a dar mayor. ¿Por qué acaba la tatuografía? Yo no sé qué está en el take, quiere llegar, pero nosotros ya tenemos más que a todos nuestros procesos. Incluso yo, los motores de máquina, los grupos, o nada, es donde inicia, a todos los termímitos. ¿Déjame por eso la deseo? No, no, no, que eso va a ser parte de los que no, no, no, no, no, no. Sap long, chauón. Sí. No es tan queように préate de lado y de lado. De lado. Pero ni de adher Wow si no. Que salga, y se ¿qué? Bueno killing no meSE. pero otros Athena enser要ESSEE Esto significa la necesidadaga puede ser de forma muestra puede ser firmly apenas pero esta necesidad será appetizado Poleden textbesondere 35 que trabaja 25 es 45 y entonces viene 9 pag个load de 25 escorarios Entonces que no son escorarios que surgen Porque ya sea porque mos es encontrar eso Ahora es una preinemgencia, probaron que el tabelaste no puma entrar a aplicar contacto. ¿Para como el tabelaste? En este caso, ¿cuándo son los productos con los tipos de necesidad que malenían a usted para aplicar tu? Eso lo quería comentar. Lo de darse de las que me preguntaran ahora como que es, malencias sin ser. Que son los procesos, un proyecto de malencias de los procesos. Son los procesos más importantes o ordenantes que tienen el level anual y el adaptamiento de tDC. Para comenzar estos procesos, esas aplicaciones, desde estos procesos, no son aplicaciones uniformes. Hay que preparar el intento de esas partes de son aplicaciones por medio de los procesos, esas aplicaciones de los procesos. Eso hace más la bienveniencia de la población y por lo cual es que se usa el concepto. Es el solo colaró que你知道 primero ustedes que saltaren como dec transp boisos. La inseguridad es para mucho cubrir wykonaciones porqueěendran,��én, parce tw, , y la necesidad de la sección médica мерia uno , veo que ya hablo en direkt suscientas , birds responsible , es un , es horror enorme , oui , eso lo sabe bien, se nos vamos a dar ustedes 아까 de producción y hoy ha conserv tail sobre este monitoreo que organizan, ya salen las necesidades de hungatory y el oca de Wine, pero, ¿quándo no tenemos talking about? pero si tienen tres useless por favor trasparse hondr Emergency STRUJANDARD 9XC defensa cada bastard J suegerme, piensa cada que me längre no hay BRA прог painfuletti no hace que le me pasan seg liberal . Para pero la que la visa de información me sirve y los supervisores de PSC, con que son los que hacen la necesidad y mandan la necesidad, igual. El proceso de saludable de la misma tarpa que el final de la tarpa no lo que es que la se les convirticia a la tarpa. Y si lo único que lo que estaba lo que hablamos es que el día cuesta sólo se pone que esperamos que el día cuesta, pero miramos en que el día cuesta la semana, y ya no se puede hacer toda la festeña con huelto.\n",
            "Audio transcrito: /content/drive/MyDrive/Proyectos/Transcribir a texto/Audios estandarizados/3.mp4\n",
            "Texto:  que era el agro parámbalo, y con el intuereo, yo sea comer toda pie, no con el intuereo, sea no con el intuereo, sea no con el intuereo, si es el intuereo, si es el intuereo, si es el intuereo, si es el intuereo, es un barrenador, un barrenador, un barrenador, y la distraucción que no se va a hacer para el vidor. Aquí es. Y no es que se rella ni seja de todo el vidor. No, no te si no va a hacer. Pero así, si va la distria, a將 �íela ese vol 균 ahí y a una forma! Si por sealingko? A las cuevas te literary en los bancados, dos o tres las... Aquí, en esta部分, es una acción de la llave y tienes también con las 싶as de udamos como allá. Asi por dos niños, hay un cadenario Al de estos años, ahí. Porque nada lo van a hacer... y quiere para...amat Linda, por ese honor que va a snailar Y a que se va creando que es como el momento. Un momento. Y este plan no es secar con los cargos con telófonos. La parte sí, sí secar. No todo, pero como le explico, es lo que está en la nuestra pusa de cómo se lo dijo. ¿Puedes ser que aparezca el o te gusta 2, 3, 4? El plan que está ahí, se secar. ¿En las guas? ¿En las guas? A mí no se está recorso. ¿Tacamos de incidencias? De nada, sólo se parece a por ejemplo, que es mapeza en el aire de un macro que sirco, como se cambiará de aquí, igual que en la pisa para defender. ¿Qué es lo que está en la carga? ¿Qué es lo que está en la carga? La colegición. ¿Qué es lo que cargan en cienes de lavar? ¿El plan de puesto de algo que se está casando a todos? Y lo que requiero que es la carga. ¿Ese es la mierda? ¿Qué es el informa que uno ofrece? ¡Tes hectáreas! ¿Tes hectáreas regreso de manger o las hectáreas de todo el fin? ¿Ven en una de las mapecales? ¿Dúna terea se casca en una de las cosas? ¿Qué es? ¿Qué es la vacuna? ¿Qué es la vacuna? ¿Qué es la vacuna? ¿Eso es un los impuestos de la vacuna? ¿Eso es cuando usted le llama la vacuna? Sí, le amo los impuestos a la gente finca y ya, hay tal programa a 21, a 22, a 23. Esa es una dosis policáreas. No lo es importante que ustedуля, ya tiene más niñez de su compra. ¿Qué es lagréás? ¿El programa? productos. Te brutalizamos. ¿Y tú estas en YouTube? ¿Y qué estaba más transebequeando las hayan romacado? Un programa. sin porque ellos trabajan en más en program, para terminar a todos, y ellos de terminar también a todos. Decien, si ellos programan, decían de poner nueve en los cinco hectámetros de este producto, pero en una ejecución, que necesita utilizar 45 o 55, o hay que andar de laificación. Pues la... Entonces puede variar, puede variar, como puede variar el producto, porque ya puedo variar, porque ya he estado, por ejemplo, por venidos, pero es tu献stad, por primera gente, y cuando... Primero es que uno no tiene que utilizar esa mada, pero el cuoque tiene a cambiante, ¿cuál es tu献stad? ¿Eso puede cambiar? ¿No, está? Sí, lo que hace que... Contrón... variar a las dos, porque por ejemplo, usted puede... expresar así de que a todos se quedan mal, a mi es normal, pero como ya, a esta mano, lo hace el cuantro. Debe ver que era uno de los puntos cinco ritros, para tocar el único. Cámaras, me maté fotos, chapters aclujeron por una crudesta. ¿Detú lo tiene? D 이런 cosas en su vida. Oye, es verdad, utilizar, MILLOS que aunque Hmmm, puedes mostrar como es tu todos p Unfortunately, ¿ати�� päje? ¿Sabes qué junto esta aye, pero está con lowdalli de…? Y no son más verdaderas. Estamos en el landed. Ya hay un Foods de Fromäl autres. Estuduyamos a lauestos. feet los mocos y no pasa la polsicuna. Voy a comprarle a lasense screens.\n",
            "Audio transcrito: /content/drive/MyDrive/Proyectos/Transcribir a texto/Audios estandarizados/4.mp4\n",
            "Texto:  No, no, no. Ya es para ir en el ejecutano. Ah, ¿eh? Hasta aquí no te dijeron si a cuartas no saben que le van a períes ni para que cuartas le chargonten. Nada. Entonces, ¿qué realizan en semana? ¿Qué más? Vamos a ver. Que especiales en su visc? Exacto. Ya, ya. Yo era de hoy mi extante. Al final, En el campeón de las filas, que donde tenía la prohíksa. Atomamos, salieron cuando más fotografías, salieron a la viscada de campo, y ahí salieron la necesidad de cuántas áreas, y qué lotes, y qué distintas pitan. ¿Eso es el monarco? Es el monarco. Es el de la avenida. El de la semana. Y eso que llegan a la visa, bueno, yo tenía ahorita para que digamos, es cierto. Ya tengo las dos más tres días después de su cuartas. Pero tenía aquí que vamos a quitar ahí en el campeón. Cuando se Cantap aca, y pretendemos que nos déremos lacessana. Y se ha apostado, mademois, pero ustedes den algunas disgustingos de esa serpido, por el este día nunca. Está bien. Y esto es un겠죠. Mantén. Este ser y en hace hace no hay 67 finales, si se ha aplicado el peor. Entonces, como decía, salió Oscar con la gente finca, o no era, fueron a ver los lotes. Parque narra es un PC y finca. ¿Cuál es el PC y finca de uso? ¿Qué hace de producción? ¿Qué hace de que? ¿Qué hace de que? Ya tienen programa, los redes han lo valido y dicen, ¿Porteamos? ¿Te voy a ver en activos? ¿Y le mandan en este caso Oscar? ¿O está? ¿Consolía la información? ¿Ah? ¿Y le manda la necesidad? ¿A cuál? ¿Qué es el costo tiene? ¿Es superiso? ¿Eres superiso? Sí. ¿Solo en lo hace? ¿No hace? ¿Puedes ser superiso? ¿No puede ser superiso? ¿No puede ser superiso? ¿Solo en la tercera? ¿Solo en la tercera? ¿Qué es lo que usted sabe en esa variada? Obligamente, la reconoción que venciamos en la manana que se roba, que hay. ¿Qué hay? ¿Qué hay? ¿A qué se ve? ¿Qué se ve? ¿Y la aplicación? ¿Y ahora lo habéis ido de superiso? Pues, de Dios, como el mano no lo cretito, ya no voy. ¿Ya? ¿Todo lo está? ¿Tiene con el agua? El con el mando de requerimiento de la aplicación. ¿Qué es como me haya estado de ser? ¿No? ¿Qué es tu problema? Hasta aquí, aunque no me interesan, si es con un doctor o si es con un doctor. ¿Y esto no nos va? Si quieres que le habéis ido de superiso. ¿Ya hay que ser superiso? Y ahora, ¿qué ves? Ahí fue hasta muy muy importante. ¿Ah? Por eso le decía que me necesitaré que no me haces, que como un número ¿exquisable? Hay un número de quiza abajo. ¿Por qué? Por ejemplo, ¿por qué no hubo una Cuba cuando un mil lecales? ¿Ya abajo pre-enmítica? ¿Sos siete mil lecales? ¿Por qué no se sabe? ¿Por qué esas cuatro mil lecales pre-enmítico? ¿Hasta que no? Sí, cuatro mil no es como el solo. ¿Qué? ¿Cómo que no? ¿Ya abajo pre-enmítica? ¿Y de qué? ¿Ahora por qué esas cuatro mil? esas cuatro mil no es, y lo supuesto, la dan y se julguen por mes. Por ejemplo, cada mes, por ejemplo, enero tiene 800 hectáreas de suprestar. pero lo que tiene es que se presentas más o trescientas y un milagro. ¿Por qué es necesario saber eso? Porque los antes de hacer todo es enviarme mi información, me mandan una progresión sea para medio y ferreo para que ojo a hacer un pedido abierto, para asignar produeves de servicio y que esto lo hace en mi situación. Por recursos, ese es con un chequeño que tiene. ¿A ver si es más fácil? Por eso le gobamos con papas. Pero es en un día de esa progresión, por un mes, un dato tocado, no por lo que tiene. Pero si no tiene un tiempo de instrucción por mes, se la mandan con un mañez con un lado de papro, o algo de su puesto. Pero esto lo hace en que tipo... A ver si el tínsele le cien, y ellos vienen de mano a esa progresión de dinero. Pero lo hace en pedido, entonces es calentario o pedido por eso. No, no. Es periodo mes, por ejemplo, lo que dice Walter Lás, va a no ser inséficida. Vimos que las ayudas tuvieron muy constantes, decimos, va a ir un pico de típico. Ya viene así que dice Walter, estimamos, aficar dos militares. Es un estimado, al final no desargué sin deshacer eso, o el más o el menos. Entonces, a Walter te dice, ¿pueses el estimado de este mes? A Walter lo pino, hacemos dos mil hectáreas, tres mil hectáreas.\n",
            "Audio transcrito: /content/drive/MyDrive/Proyectos/Transcribir a texto/Audios estandarizados/5.mp4\n",
            "Texto:  cada mes, cada mes, que son estimados y como dice aquel muy probablemente en ninos que hacemos la también o muy probablemente tenía la mesa, no tratamos más ¿verdad? Eso se ha haciendo a cada un mes o cada un mes ¿De qué tiene una cosa? ¿Cómo vaya el consumo de esos estados? Si, y queremos dejar un pecho, lo vamos a desfacar ¿Cómo sale puede ver? ¿Por qué? Porque parece no se ajuste, el día de los<|es|> veisando me muchan y ya no tenemos mucha área y siempre todos extraerán los propuestos por eso producen Administración de recursos tiene propuestos, sí ¿De no es es inado en su alma? ¿Tená la insensión y más allá? ¿Qué? ¿Qué es el antropostica que tanto requeren el nisto que se muestra ¿no? Mire, lo que decía, por ejemplo, en brazes es más todo el tiempo y es los monitoreos Ahora en Maleta, es bien dinámico porque como no es mi cita de campo o necesidad de semanal, sólo se van a un proyecto de triunf de segosar, en planas de más fácil de control porque es por monitoreo y clima. Ahora en Maleta puede ser que sea el coelillo o puede ser que sea el momento porque el mando es el suceso de que... ¿Maleta, lo cuándo es el costo? ¿Seguen a palabras de acorde y maldando un solo correo? Es un solo destimado o bien o bien, o más o menos la ejecución que hagan este líneo o como lo he ido haciendo. Mare, esa sí, es bien complicado. Si, oye, si no, vamos a ver por ejemplo te van a ir a una pelicidad o me dan todas esas áreas, no te tenías ni cuenta pero sabía que no es que es muy probablemente y va a salir coiolí porque hay que hacer una pinta, no hay que ser el nodo y de es justamente que no se leo coiolío por todo lado o sea que hay que mandar a picar con un rom. Pero de Maleta tienes un poco más complicado saber que te va a salir cuando se leo porque la Maleta cambia todo el año o el cambiar de lugar, cambiar de veces. Y es verdad que si es bien complicado, tienen conflicto porque no es como por ejemplo a la mala de notición cuando no se lo toca a venir y yo para que te piques con un destino. Nutrición que sabe que va a haber una 50.000 hectáreas de la ofreza y la va a meter para nutricis hace su protección del año completo y bien, es una en paquete completo de la opción y igual con el lado de su perrepaquete completo con las otras. No, es la frecuencia, ahora es todo tipo. Ahora, es así, la gas de sistema es incomplica. Y es todo muy importante. Si te gusta ni puede aplicar a alguien, pero también así para hacer no atener tu utilidad, no haber rendimiento, no vas a poder entrar a tu donado para dar un canal porque se le sirve con. Entonces, después de que usted me llega a la requerimiento que le hace su protección, que como analiza aquí, si tiene o no tiene un otro despropero es para cumplir su vida esa necesidad. No, mira, ahí tú las vamos a estar, un poquito pero, lo que pasa es que en el año nosotros tenemos un mas proheta y nosotros tenemos una proheta con el mandro de monta de ena, según la campaza estará. Por ejemplo, para esta temporada, en el 425, 116.000 hectáreas, contra un propio, la temporada, le apetamos por el pecho de 1000. Desde el año 2020, que empezaron los drones profios, no se pudo estar recercer ese proyecto, solo aplicado 600 hectáreas, en la temporada de 31, en el año 22, 11.000, ya no ha llegado el 13,16.000 y en el 23 de 24,19.000, ahora que quiero llegar, se estuvo utilizando los drones en un porcentaje mismo y todos los novenconables profesionales, ahorita el del proyecto de bonesa ha salido a luz y se está tratando de aplicar el 100% con drones mandalena, pero solo los procesos de foliares, 120 y los procesos de concentrado hoy de azul. Pero basamos, sabetas, nuestra casa más alta y más que en la desexecencia, es puede que le mandan a usted cuatro salacrimientos para todos los que les dijeron. Por eso solo quiero ser explicada, como tenemos solo capacidad para esos proyectos y riesgos todo el año y no dissone esto el año, por el momento de todo el año, prácticamente de romana, no puede explicar este tipo de procesos. ¿Vin uno de estos? No, no. No. No. ¿No? No. No, no. No, no. No, no, no. Esa es la discusión. Esa es la que como todos los días han dedicado a un inclusión en todos los días con los entraores, todo bien, un marino es fácil para... En muchos menos que se han inventado. Es tu costo procesos nada. Las deidades de la fonsa que quienes... En misiones de quiciera. Son como siete mil hectáreas de fropos que nos proyectan con drones retabas a la tina de la enerana. Y a las espézas, tenemos algo de más que ayer en el problema de las opciones animáticas de la fonsa.\n",
            "Audio transcrito: /content/drive/MyDrive/Proyectos/Transcribir a texto/Audios estandarizados/6.mp4\n",
            "Texto:  en la 35 de diciembre, con torne de aleces, que están a dichos, ¿no? Y la tarifa que utilizaba para respetado de este profesor de la misma utilizar el honor al café, es como valiente. No, no, no, la relación para comenzar, este tipo de procesos inséficida y malestras es a día de día, y por el tal de hacer más económico. Y a nosotros aplicamos solo el comer de 15 y 16 con el prop. Entonces, este es el costo más bajo que hay. De hecho aquí nos es más oriental. Pero le vengan a diez porque así de lo que tiene el prop. El tipo del producto que está aquí. No, no, no. ¿Por qué así la protección? Sí, ahora bien. Esto, si nosotros gran roguen de la empresa, eso sería una rentable para nosotros hacerlo con un prop. ¿Por qué? Porque todo focalizado. Entonces, no es el que sí, para nosotros como prop. Y después, eso es más económico. Es un extreperílio de estarlo porque los drones ahí van a trabajar más y van a ganar un poco menos de esta pregunta para la empresa. Pero en el caso de que se les piden una observación, ¿no? ¿Qué? ¿Cuándo ya saben que hay una requerimiento de ellos o más en la posición para la empresa? Entonces yo tengo la protección a una solicitud de ser facial. Eso es lo primero que hago de la nación. Yo la solicito. Por eso digo en tu solicitud. Este es el análisis que hago. Habla la data y como ya tengo el primero que habla la data para hacer la solicitud de la sexta ser con la cantidad ex de para incendicidad de cantidad ex para el servicio. ¿Cantidad termina como la protección que le manda a silencio? Sí, lo que estamos hablando es que uno no ha ganado. Entonces, ahí ha bajado por el Estado, por ejemplo, 3 servicios, 3 progóries de servicio. Si me está viendo mil hectáreas de incendicidad y mil hectáreas para el visidad, yo lo distribuido entre 3 progóries de servicio, pero por personalmente en almohostas o en altos no. En principio, si se puede crear después que nos han atrasado, será el que más avanza que mayor financier se puede hacer por capacidad. Entonces en este caso, la mil hectárea de cada proceso se destruyen en los 3 servicios. Por ejemplo, los 3 servicios que teníamos anteriormente quedan los únicos. Si van al cielo, los únicos y al techo. ¿Qué es el sentido? Bueno, entonces, hace su producción de 300 años. ¿No se va a dar como una dos? Por eso, vamos a hacer una misión. Entonces, sucio a mi cierta, lo techo a los primeros que teníamos. ¿A más? Ahí como supieron, otra necesidad de ser lo que vamos a hablar de seríres con las demás aplicaciones que vinieron, las se contrataron, o cosas. Pero, ¿usted es asquina? ¿No? ¿No? No. ¿Pienes de vista? Yo soy un amico a la pobreza que tiene. No, miro de que. Lo que son aserona de los servicios de terceros son convertadas por compras. Es que a mi me dicen, miro, estos son progros que tenemos disponibles. Me dan las salidas y me dan a capacidad de dar a cada uno de los progros. ¿Qué es mi análisis? ¿Tenen poes? Darle a los progros que tienen una mejor eficiencia, por ejemplo, a las fincas de finen los descompletos, porque también hay otra suplera. Hay un porcentaje de los descompletos y un porcentaje de los que se son localizados. Entonces, de esa manera se les es así en la ayer o celario. ¿En qué? ¿Algo te entres? Si pues que el tínema es que lavar y la que es el visto, te va a grabar un perido abierto. Por eso les hecía para poder después de la ejecución, para ganes mejor que los que los tienen, dentro de ese perido abierto. Miñano. Solo eso es mi del parro. Dez en es. ¿En qué? ¿En qué? ¿En qué? ¿En qué? Entonces, ya tener eso creado por lo que en ese caso se ha dado para ti. Ya tenías que dar la licitad de licitación. A mí me has dado la recorrosa. Y a mí me has dado la licitación más. En mí, ahí, que se aclaré. ¿En qué? ¿Cuál es su parro? A la vista. ¿No lo está dejando? ¿En qué? ¿En qué? ¿En qué? ¿En qué? ¿En qué? ¿En qué? ¿En quién se la ha programado? Pues, bueno, iniciando el amplio parte del posterior pando. O sea, hacer la suelecaya de un encargado. O sea, en este caso, estoy de pecer que hay un amigo oro. ¿De cuál? ¿Dónde este caso? ¿Cómo fueron estos dos procesos? ¿Dónde se le pide hacer? ¿Por aquí? ¿Por qué? ¿Y eres el primero? ¿Y eres el que dada? Primera, ¿por qué? ¿Ella prueba sin pensar? Sí.\n",
            "Audio transcrito: /content/drive/MyDrive/Proyectos/Transcribir a texto/Audios estandarizados/7.mp4\n",
            "Texto:  Quieroarme de tiempo largo de la Yoo en flor, mañ ax, horro Salt De algún равно varization durante de delivery en elودicoamus En algunos casos valiendo renderlo bride Las compañías Revistía en la semana de la verdad. Lo que sí, de la verdad. Lo que sí habría que encontrar. Lo que sí habría que considerar también el de que no solo libera, sino que después de esta persona, y la protección de esa lista, la protección de la opción. Entonces, ¿qué es el otro tiempo estimado para la inspiración? Y dependiendo del sistema, ¿están evaluando? Bueno, ¿tienes lo que está dando con el video o el video? Es más rápido de uno a un día. No, sí. No, sí. No, sí. No quiere. No quiere. Sí, más de por ahí. Adicional a eso, fíjense que va a defender el sistema, que valúa la más monetaria. O sea, para la verdad, si es mayor o el ramo no manrecuerda, pero si supera un número, ya la generación le gregaba el dinero de un río. ¿Y ahora? Actualmente, está eso. En todavía está no sé quién está en el paracinato. Pues, ¿qué es el tratamiento? El que es como el doctor interino, ¿por qué? Y el tratamiento. Sí, el tratamiento. ¿Y es cuando se le da un poco? ¿Tome? A ver, si digiste cómo es. No, no, no, no. No, no, no. Y es que es rápido. ¿Cómo le da? Lo mismo desde el día de la hora. Sí, lo mismo. No, no. ¿Qué es el problema? Sí, lo mismo. ¿Qué es el problema? El problema. Sí, es desde el día de la hora. ¿Y qué es el problema? Lo sé, ¿cómo? Desde que viene a la otra, a la otra. Y hay más con la semana. ¿Azón? ¿A qué es el problema? Lo que ahora vamos a decir que es que es un licito, el tratamiento de requerimiento, que va a jugar a esa, porque la solicita la seclasa, y son los filtros de información. Lo cual es que nos pasa más, un poquito más de tiempo, pero ahí tienen no han parado aplicaciones de adquidos, por ejemplo. Porque cuando ¿qué le manda a la solicitud? ¿Cuál es que, por ejemplo, lo que decía va? Esto es como el interior inicial. Tereo sí, operando. Cuando yo no puedo detectarse, ¿qué le dié? ¿Qué es que es? ¿Tú? No, no. No, no. No, no. No, no. No, no, no. No, no, no. O sea, ¿qué gusta si estás con? No, no, no. ¿Qué pasa que a ti en este paso que has de ser? Acá. ¿Qué nada se ha complicado, no ustedes, si está ahorita? ¿Esto es ya dentro del sistema? Sí, pero mi duda es, entonces estamos en el pintando, sin que pases eso. No, primero pasa eso, por ejemplo, lo va a romper. Primero autorizan militares, para antes de llegar a pintar, ya ahora autorizan militares a vosotros. Y si nos empezamos a picar, te da igual que te da decir, ya se nos va a acabar, el requerimiento, este es el nofi, la vamos. Para que te pide. Ah, ha, he despido el caso del YouTube. No es que nos quemos esperando de las que las autorizas, o de que no. Para eso es un proceso de más de hecho días. O sea, nosotros tenemos el proyecto inicial, que esto sería el primer paso. El primer paso. El primer paso, ya nos tenemos asoctado. El primer paso ya tenemos nosotros, hasta los militares de miles de marés en las militares de la noche. Entonces, si está dentro de lo que ya utilizaba, es un único paso. Esta es el primer paso. ¿Te dices? Esta es la narizada. No te había estado por allá, porque lo que decía, ¿qué es esto? Es un poco de explicarlo. No hay, no tenemos otro proceso que nos dictamos, pero tampoco va para otro día. Y pasa, nosotros ya tenemos que añadir un platic. Esa es la idea. A esa es la idea, lo que queríamos llegar, porque, partimos de donde son las encieras, pero no la... No, ya se va a hacer. Antes de... Entonces, prácticamente, ya comienza otra vez, ella me mando una clavecación que hoy ya tienen esta idea, una dapa. ¿Me dijeron? ¿Me dijeron? Yo ya me mando la clavecación después de eso, y lo vemos así. Este es lo que decía, como el segundo paso, otra vez, es como ahí ha sido acto. ¿Pues dan lo que ha venía de ella? Por lo que ha sido. Esa es tu plan para que lo lo lo hacía. Pero no, no. No, pero... No lo vean que hay en el momento, no lo esta más bien. Es decir, es un poco. Ah. Sí. ¿Pensé un paso en los que lo que ha venía? No. Ya yo voy a ver el sítico, ¿no? Porque en ese correo que no me dijeron, que usted tiene la verdad, es un proceso pdc, eso lo mangas a producción de los mil hectáreas.\n",
            "Audio transcrito: /content/drive/MyDrive/Proyectos/Transcribir a texto/Audios estandarizados/8.mp4\n",
            "Texto:  subí por favor. se pueden esperar, se quisiera 해� [( lottery)] tiene cuando ¿Qué crees? De esto también no lleva a Álter porque él se basa de mi es el control para hacer su programación. Por ejemplo, si esto le citó mi ayol, 800 sec. ¿Qué es un punto para que me ha parado eso? Le citamos un nuevo. Y va a ser con una de las adicionales. Mi persona del sistema, una vez que me houve enero en medio de mil hectáreas, el sistema no me deja pagar más del militar. No me ha sucedido porque cual se llevamos control. Siempre le había anticipado ya para una nueva programación. No le camamos que se los pasen a hacer que se haya solicitado y pedirotra. Nos llevamos un control, ¿tiene esta vez? O por mí, de acuerdo a los a los que me han quedado en cada película. ¿A qué perteno le irá a cualquier vez más? Es el control para poder solicitar la pnc, otra proyección del mes. Es el control. No es el sistema de nación. Es un control por una de las data de cn para poder pedir un modo en este modelo. No, no es el. Entonces, rellenizando, luego de que ya se tiene la proyección, el pnc, el fiel que regresa. ¿Cómo te vas? Bueno, sí, porque prácticamente yo creo que tengo un punto más de nuevo. ¿Esto está? Sí. Sí, porque prácticamente eso va a invasor a los 5 semanas, dos años en la proyección. Todo que aquí es proyección del mes, ahí ya va a ser una planificación. Semanación. O sea, que esto depende ahí, prácticamente no lo cueno punto no había ahí. ¿Cuál? Bien. ¿Qué va, yo? ¿Tienen que decir por aquí? Y aquí ya. Y aquí ya. ¿Qué es la ejecución real? ¿Podría ser? ¿Qué ya vamos viendo la necesidad de agarrizar? ¿Qué ejecución real? Creo que no. ¿Qué? Porque aquí ya sale lo que... Lo que vos está, le manda ya... Esos son madales. Esos son madales. Esos son madales. ¿Qué es lo que está aquí? Las más o si o si se den el ejecución está. Esos son madales. ¿Qué es lo que está? Esos son madales. ¿Qué es eso? Précticamente los días jueves, que no mandan un requerimiento y el útil de salud, que no mandan un frear, de la acción. ¿Qué es lo que está haciendo? ¿Qué es lo que está haciendo? Esos son madales. ¿Podré ser un? ¿Podré ser un? ¿Qué puede ser un como un programa de la semana? ¿Cuándo se empieza a aplicar con nuestro programa? Prétidamente, a la escubiría, como ya no se programan, pero... Précticamente ser un. En las que le vengan a la Secretaría de Prínice de Semana, así se ha dado una creación. Están tomando las creaciones y el único es el que se va a aplicar. ¿Qué problema para el día de un es? Pero si ya existe la adaptabilidad que pueden ser productos y que hay proveería, que hay que aplicar salud, ¿no? ¿De un día de ese? ¿De un día de ese? ¿De un día de ese? Sí, de una vez que ya ya se va a ser la programación. ¿Y ese? ¿Y ese? ¿Y ese? ¿Y ese? ¿En el de a guste lo que pasa es que se tiene lo que es el tema de... ¿Abramos un doble clávez? No, nosotros nos realizamos un historiario que lo hagas asado. Entonces, los monitoreos que entran del bón es más pendiente de los... Y pueden, posiblemente, entran en la batalla en lo que es la solicitud de... ¿Y el que ha estado? ¿Por el terreno? ¿Ah? ¿Y el que ha estado? Lúduma, pedunes, asado. Ah, de lunes, lo que dice de bóscar es... Sí. El día puede ser que manda todo lo que te leo con problemas de chinchia y de la salida mía, pero eso es muy el es la vez. ¿Por qué? ¿Por el primer te da el problema? Te de bien, y van a mantener lo que quiera me sao y está al alto de chinchia. Se agrega de salud. ¿Por qué? Porque chinchia, si no podemos estar a un de tiempo. ¿Qué es? ¿Tú una vez pedidilado? No podemos ser más receptivos, lo que sea de fiel azul. ¿Tú dan las placas que más te ha gustado? ¿Qué es un momento de eso que no estás? Los que ya lo hagas. Los que ya lo hagas. No, no, no, no, no. ¿Qué es eso? Hoy te dejamos de los cíclicos o hace la etapa. Entonces, acá ya vamos a los que lo han marxado y se van a hacer. Sí, vamos a ir. ¿Y qué hay que ir? ¿Y la hay que ir? ¿Vamos a hacer mi recarimiento? ¿Qué hay que ir? ¿Tú no que nada me inagamina o lo te rinca? En la vez de este amo de 15 recormanozito, ¿por qué? O una o de el año. ¿Por lo te? ¿Por lo te? Se igualse que yo, estáis de este recarante y antes que te estudiera, se había una habitación espareca de rotos. Está aplicada, iniciaría a chinchia, no te descargada. Una hectárea de hectárea está aplicada a todo el pan y aplicada hasta el porgú, antes de ser que se van a hacer un monitoreo,\n",
            "Audio transcrito: /content/drive/MyDrive/Proyectos/Transcribir a texto/Audios estandarizados/9.mp4\n",
            "Texto:  más iniciar a la área y a los que se vuelven. Y a un punto de él, hasta cierto punto de la venianza, ¿cómo están? Porque no todos tienen que aplicar, ¿cómo están? ¿Dónde están? No puedo crecer. Sí, aplicar no aplicar por gusto en todo lugar o a ustedes. Ya. Y ya también no está. Este hay que ir a alguien y a alguien que existe a la línea. Y ahora la programación para asignar fecin y todo lo que se ve. Es un vaso. ¿Y esa programación de programación? Los programas que están asignados en la matriz aquí a general. Y a solo que quise cimentas, porque cada semana hacemos más de cuatro cienzas, porque es el que se va a hacer el vaca y tanto ese es el control que decía que yo. En la niña que tiene a los fech, por ejemplo, y esos 300 de zólleques, 300 y hoy de los años. Eso es lo que se hace a la Feminad Fech, y todo el servicio en ese programa de semana, que es uno de los borreros que le ha caído últimamente a nivel o para el profesional. Aparte, mando otros borreros sin mentados por todo el servicio, y que se va a poner acá por todo. Y mismo, el mismo programa general ya sin mentado por todo. Ahora tengo donde impactar el tema de mi producto. ¿Produto nuevo de hoy? No, pero maldense. ¿En todo lo que hemos visto ahorita? ¿En todo lo que es producido? El día de hoy es si el manda de la solicitud se manda de la solicitud también para reservas. Si le manda mis ascendercursos. Eso, ¿qué es la humana? Eso es lo que habíamos... Pero a pesar de cómo se canse, ¿cómo le hacía productos? ¿Cómo quede este servicio? Es ejemplo, dos áreas ejemplos. Que no se ha aplicado para 8 años, ya está el programa que es el programa de usar, que es un litro de dos para poder. ¿Qué es el programa de los supervisores? Es el supervisores y el proyecto de producción lo miran el diálogo con el seteúno. Por ya veis, el PSD6 y el PSD de producción se ponen el diálogo, o al que el lote se han aplicado el que harían y qué programa se ha aplicado. ¿Qué le ha pasado a esto? Yo ya me ha hecho una necesidad de requerimiento antes de la 12, ¿de cuya muestra? O antes de mi anoche. ¿A qué le he llegado? Antes de la idea, pues se le manda toda la solicitud de reservas manuales a el receta del curso. No, que no. ¿Qué existe en el planteador programa? ¿Qué es? Para explicar, ya vamos a ver que yo he decidido que fuera con el V y ahí me dice que materiales que están filanficientes. Y requerimiento que costa de pías es por un luto, todo por raro. No, por raro. Por raro. A mí ya lo pica de programa, y he decidido que el instruz todo más en distancia. O sea, lo que hace es consolidar la necesidad de aplicar llaman. Y solo se lo manda igual. Cada supermiso ya se lo manda, de ni sabían, que es de... ¿Te lo pese? ¿Te lo pese? ¿Te lo pese? Yo lo que he construido aquí para la aplicación es requerimiento antes. ¿Te lo pese? Para el luto y el luto. Para el caro. Para el caro. Para el caro. Para el caro. Para el caro. Para el caro, lo que es este producto son unos precios que se armaban a solicitar en este conmala. A ver, Ryan N. A ver, les dotamos como un performed que no se compunda, pensamos que son unos de ustedes. En contar bien que han wobido con un completo terug de este enc tanto que... ahhhh... Más un hijo de Messi y cuando todos los Hofijalah son a la policía ya lo aún no corrada en la billita. Esta les gìa? Si covert drunka, pues dios que están renasky, pero ya les dios a mis Dean Adiunes muy bien. Suica, dumbass, en el barco de arriba. Lo que motivationamos es ir aquí sobre que don dasfredas, como reducir los correos que harían, ﷻ pues no los humanitas... Lorenzo en gratis puede mandarse a la vuelta pero profoundamente dari esas atencias. transaction satisfying, todo lo que se llama el programa. Tiene que estar en esta recidio, lo que se llama el programa. ¿Está en el duma o todo esto? Sí, por entonces, lo que se llama el programa. Y la que se llama. Sí, que se llama la recidación, lo que se llama el programa. Ahí ya existe el programa. ¿De dónde está el muro? No lo hago.\n",
            "Audio transcrito: /content/drive/MyDrive/Proyectos/Transcribir a texto/Audios estandarizados/10.mp4\n",
            "Texto:  El cual se encuentra ahora. ¿Y este define? ¿Y esos los acolestaran? Todos los ahí se acolestan triunféricos. Todos los ahí, por ejemplo, sí, todos los en el ejemplo. Está ahí en ese triunférico, si tenemos que aplicar antes de... Si el otro tiene más de 20% de resiembros, hacer una apilación para la gente y se apoyan. Esto hacemos una sesión con todos los refueres de producción con los regles de reglador y de reglador y de reglador y de reglador y reglador y de reglador. Por ejemplo, que te sería la mala esa nada cuando me voy a salir la pagía que metamos en un producto... ¿Mejorito? Antes de un producto me va a estar pasa por la investigación de portarlo de masaré. Aquí no entra ningún producto que no esté basado a las inversiones de portarlo de masaré. Esta es el primer punto. Ya está lo masaré. Yo prueba los genéricos, los de Marta y este si cumple, este cumple, este cumple, y hace lo manda la gente cumple. Ahí yo pego una energía. Ya está lo mismo que me va a matar a la pagía que se va a hacer para hacer pruebas. Desde el viaje de pruebas, si es el fin y el día de que se murió cuesta dos, eso se murió cuesta producto y de estas cosas comerciales. No te nos sirve que se muera jamalese. Entonces ya alguien ya con la análisis que la hace, ya la manda un informe y se nos provea que se realizaron, se pudo utilizar este producto y que puede ser de cualquier cosa comercial. Entonces se le manda a la gente de compras. Ahí. Sí, ya la gente compra y ya tiene un sistema y le diga de cine aquí, y así no. Y lo que ha habido es el cine antes de no el precio lo hace. Ya me está pensando de compras. Ah, sí, es. De los criterios de final, así es un armado basado, tenemos una necesidad de desabar mis manifestaciones, y además tiene decisiones ya bien y hace todo ese tema de la... Pero eso si es lo que se nos hace, está meter nuestro documento. Ah, así, entonces no es un problema, no? Entonces, ¿cómo más o menos le lleva a todos los documentos? Ah, bien, se está reteniendo que sea, por ejemplo, si es un primer gente, tiene que haber con menos de unos 50 días los. Pero es algo que no ha cambiado. Muleclas de visías no se salgan hoy. No han salido ahorita de hace un montón de años. Ya estamos haciendo test combinando visías con otros servicios, para ir conociendo una forma de acción de las maras. Estas no están en esta forma. Eso lo hacen de estiación. Por ejemplo, si como estas están analizando, ¿puedes para reducir el 100 año? Sí. ¿Qué es el problema? Tiene un poste que lleva en el solucinar, para hacer más intensidad, ¿no? Ah, eso es el juez. Dejen desgrava las receras que se van a utilizar, el 1 de marcha 100, porque es una problema, es que podemos dejar los línguas al saludo de mi corona. El problema que tiene que utilizar es como 500 reservas del tendresado de domín. Entonces, antes por unos tiempos secciones, porque ustedes se les da utilizada, empezamos muy cuando nos estén amo y a reserva, lo hizo para cortar las reuniones. Y es el problema en el traído de él. ¿Por qué no hay el exército único que te utiliza la pensada? Todas, todo, de todo. ¿Eso? ¿Eso? ¿Muchis, ¿qué nos nos nos llaman dos de tal vez la semana? Nos unir reserva, digo, ¿no? ¿No lo mantenemos? Solo para hacerles. No, para que lo hiciste. ¿Esto? Y como hay que ver, que mira alguna vez no se quisiera, la dervici de la despertilización, la elaboración. ¿Y cómo? ¿En el acrocio de estos procesos cuantas? ¿Algún entre 500 reservas? ¿No se está en el lado? Sí, no se está en el lado. Sí, sí, lo está. ¿Y qué pasa aquí? ¿Y no es un situación? ¿Y ese es por punto de momento de reo? Por ejemplo, grabamos, que es medio kilo, los kilos de montones de reservas que se hacen para plazas, es por punto. Es que tiene que empezar un montón de reservas. Pero creo que ese tema, ese reserva ya lo está trabajando con Maricha también, porque... Sí, porque lo que no quieres autorizar, no autoriza masivamente, porque no se le va a tocar. ¿Y hace una por una por una por una por una por una? Es parte de la instruida de este material que se llama la Maldana de Semana de Asad, pero está de sandera. ¿Cabalites? Por eso no quiso que a él se le crea un programa para cuernos. ¿Ahora? No se le hizo algo en un momento así, ¿vale? En un tipo de aplicación. No creo, porque sí se está bastante en hacer eso, o di. Desde ahí le demostró como de aquí, no está. Y no está ahí, pero... Porque si se le va a meter de Dios, yo lo veo bastante diable, es pensando en esa automática, si me trabaja. Así, es que ese es otro tema, ¿no? Es que creo que quedan a salir muchos temas importantes como... Ya se tienen trabajo con la gente de origencia de víctola, que sea de que cae polímono, que crea la reserva de automáticos. Sí, porque a él mismo se esté más calcula, y ya se encuentra una verdadera salvo. Pero cabalos, pero cabalos que te dicen van para leer los enchances, porque en esa ya...\n",
            "Audio transcrito: /content/drive/MyDrive/Proyectos/Transcribir a texto/Audios estandarizados/11.mp4\n",
            "Texto:  landing, sur cierta, y ese beneficiano es aktiva, que nunca se co negle la resiliency de ellos. y la hectárea de explicación se van en automáticos, por eso una por una. Algo que vienes, ¿cuál no están a cobrar? ¿cuál no pueden juntar tu desvalle? No, ahí se queda para tomar. ¿Qué es a vos? Sí, sí. Algo que vienes, considera también a este, para que empezamos a reservas de plas, no nos puede mandar en día este tipo de norma por jueves, por un desprente. ¿Es que para el contenido por esta situación? Porque ese día se determina cuantas de los que hay que va a utilizar en este momento, no se pueden tener en investigación, pero este día que ya no los compañeros mandan en un instrujo de los preferimientos, hay que no mandan por qué. Porque va a ser el área que van a aplicar en la que van a su visión. ¿Te hacía la otra o nada? Ya, más de la o nada, pero también mandan por esa que le va a ser. ¿Por qué? Porque ya es al artiller que va a aplicar en esas semanas que están interpretando la rografa de un fe y el fe en la que se va a aplicar. Ahí se llamó su juego, te voy a la verdad que sí se le va al libro, pero es parte de ese pasado, no lo prometo. ¿Qué es esto? ¿Se ha podido que esos antes de que se le mandan a vuestra? La cosa. ¿Todo es algo? ¿Ah no? ¿No? ¿La problema está mal? ¿No? ¿Qué ha probado el tema de la recerro o el salgón? ¿Por qué? ¿Por qué? ¿Por qué? ¿Por qué? ¿Te le dejan en tus narales? No, me voy a aguartar, te te mandan el cuello a medio día. ¿Cuál te recibe el programa? Nosotros nos quedamos en el Servo y ya enseñando las servas, ya entramos a aguartar como de... ¿Pero tienes el lado de este? Sí, cual parece lo que dice eso? Ahí peían sus drones y listos. ¿Pero que pregunta esto? ¿Cómo ha hecho lo mismo material? ¿Es antes de trasladarlo o... No, va en paralelo. ¿No tiene que ir al momento con el fiel o no con el fiel o que ya hagas de esa problema? No, porque por ejemplo, como le explico, ¿cuál te nos programas para pegar luz? Y cuando entonces tenéis grabas jueves viernes, lo han empezado a utilizar. El domingo no te atendemos en la recerro, y el domingo se la mandamos a bodega. Podían nos dice, mandamos, viene en programa bodega, a ese programa para que ellos se quede hacer la meta a las cuatro latas para lo que vamos a explicar el otro día. Entonces, ellos se nos dice que opirman de perplicación si uno procede, no procede, si procede. De día se llaman el producto que vos para campo. Y en campo, ya sólo nos ponen que el drone se veía a campo aplicar. Por eso van paralelo, porque si no se está grabando mucho tiempo. No, y me digan lo que vas a afectar el túles. Cuatro de escondoros de escondoros, por lo que van. Y cuatro cosas lo pueden. ¿Pas lo que digan? Por eso, yo digo, antes de la pregunta de ella, porque para tener este dinero el producto, ya se hace la suciponada. Ahora se hace el futuro que hacemos después, es que es programa del último. Y eso que se hace para él, porque no puedo entrar el producto o el día-san. ¿Venimos a ir a mi equipador de familia? ¿Venimos a tomar el trabajo? Porque lo que pide de claro que activa la mandada de repristo o a la resejo va a ser mandada por este derecho. Y por eso es que siempre por lo que importa que es que manda, ponen una vez que es por lo que está en la aplicación. Es que se las coquee los cosas y le da para que el producto se disponible para la vida. Entonces, ¿cómo va a ser? No voy a hacer un imedio de saco, a la mala y a la semana, ustedes se han dado, y el mando de saco se llama... ¿A vuede? Pero se llama o no, y ahora ya va a ir a la idea de la propuesta de la estu, ¿no? Se llama un programa. Sí, se llama un programa. ¿Cómo se hace con la leche? ¿Cómo es tu, el programador? ¿El digitador? Carlos, ¿sabes? Carlos, ¿sabes? ¿A vuede la estabilización? Sí. Y Andrea hace... ¿Horta a mi dorta? ¿Tabre a que se da Andrea? Sí, de los sacos. Sí. Abobe, ¿no? Sí. Se lo mandan todos los días. Todos los días. Y en la assim... El producto, o ya está acá en mis clavos de la mujer. Así es lo que es, el visía así. ¿No lo tiene? No voy a alejar, nada. No, no, no, no. ¿Y en la tira se producto de la mi casa? Me reservicía. Todo eso nos va a mandar dejar. ¿Cómo no? El asignal de la receta, para los comiscitos, lo mira siempre se ve, se va. No lo llevan a los puntos de...\n",
            "Audio transcrito: /content/drive/MyDrive/Proyectos/Transcribir a texto/Audios estandarizados/12.mp4\n",
            "Texto:  de cascos o ya sea aquí ya no punto de ejecución. Ah, sí, sí por lo de alguien, probablemente lo vamos a estudiar en pelas que no dejan a mis tembelascos. Puedo ajustar quién sabe en Santerriz, no dejan en Santerriz. Ahora, bueno, ya es un prevenido, estamos hablando de una pincencia de las que ustedes lo dejan a los cascos. ¿Y de los cascos al punto que no hayan? Los superisores. ¿Pero si no hayan? Sí, de peces. No sé por eso ya, pues estamos haciendo peor ya. ¿Y por si? En el punto. Y de punto. No solo muchas. En el lado de si hayan los cascos y los cascos. De cascos. No. No por fin. No hace, hace. Sí, pero en su lugar. Es extenderes. ¿Y quién? Y un poco de peor que te ha cambiado. Uno sí, uno y uno. Ahí lo es. Ahí no. Ahí no miramos, no dejan a pie. Un poco. Ah, se pone en que a suerro lo hacen. Lo primero. Pero eso es algo que esas de ahí se han al cuenta que hay que tener una gran problema que tenemos nosotros. Porque nosotros, al final no con los crecimiento a dar. Se tienen que presentar los cascos. ¿Cuándo son los cascos? ¿Cuándo tenemos 24? ¿Y cuándo son los cascos? Sí, y hay que ser feitos por la casa. No sé. ¿Cuándo de los cascos no tienen asena? Ahí dios, o tenemos los 18, o tienen cargos. ¿Y qué es tu al que no es? No me lo coro muy bien porque esta de esta yo me quiesisitar. ¿Y qué es lo menos? ¿Cómo tiene instruidos de esto? ¿Y si para la corregión? Corregión. ¿Y la peja? También. ¿Y si tiene... Sí, o cuáco. ¿Apropímos por el que no? Alzo menos. Por ejemplo, la centrazoura tenemos un solo vehículo. ¿Ah? Ah, moto si tienen. Hay unos. Pero no pa' llegar a la corregión. Para los motos que no tienen asena lighting. Ah, sabía, por los nowadays... Esa es la deço 24 o kalau uno es que vemos caros. ¿Cómo no tiene caros? ¿Cómo mint话, algo que primero uno tiene? ¿Cómo que uno tiene el moto es cierto, yang si tiene un moto no nos lo entrega si 아파 algo. Los troublesome motos, tenemos 48 motos postpintos. Aquí hay pocos motos también tienen los monitores. Si quieres ser doctor se lo paso a detalle o que sí, su nato que contigo una mente. No, no, no, no. No, no, no, no, no, no, no, no. Se dice la programación, se dice la rocada, se dice que es súper producto, se dice que es súper producto, y ya está en el punto físico donde se va a quedar. Sí. Ahí ya de acuerdo a estas programaciones, se dice igual que el proveedor, ya está en la tinta la cochina donde uno se está o el... A te asalta. ¿Dónde es ese programa o ese programa que veía aquí? Ah, ¿a esa parte a proteger aquí? Si, que ve lo que estás haciendo en la tarea, a no se va a proteger. No, no, no. Procesí. Que hay aquí, se hay. Con esta programación, ¿y a lo que realizan o a la...? Están demandando la cochina, ¿no? ¿Me son aquí? Sí, le diga un todo lo que hagan, ¿no? ¿Por eso? ¿Por eso? ¿Por eso? ¿Por eso? ¿Por eso? ¿Por eso? ¿Por eso? No, no. No, no. ¿No le mando ni que hay a mis partes? No, no. Pero ¿cuál es el oficial? No, no. Es que lo había aguantado y son el instructivo que la aplicación no se vea de comparte, ¿jiz? ¿Y jizas en la creación de polífonos y lo comparte a pede, ¿sabes? A pede, ¿no? Pero ¿qué pasa? ¿Qué pasa? ¿Y el tiene razón en un aspecto porque los heodos lo hacen por medio por lo que hablaba, Gustavo? ¿Qué heodos lo realizan por medio de un indicador? Entonces, ¿al más lo que la que realizan eso? ¿Los shock leakadores se eviden halfwayup, estas como me dijар? Dejaление. Que siempre ya pueden meter como algo está asi en 마음에. Pues televisión觀airs tienengestellt que tener la впu filters y piensas que sûren de ¿de ellos también hay algunos reconstruc<|ms|> ¿Qué es la creación de los colímenos? ¿Cómo base? Hay algo de otro. ¿Cuándo tiempo después de trobar el programa? ¿A qué me crean? Es un seno automático. De hecho, yo va a haberse tenido otro día porque lo estamos abulando. Es un día que hay. Porque hay que ser el sistema de la otra forma. ¿Qué es? O sea, estas inmediato. Son horas. No, no. Es un día. Vamos por el día. ¿Qué es el automático ya? Y luego, ya después, hemos que nos ponido. ¿Sí? ¿Sí? ¿No crees? No se nos mangan.\n",
            "Audio transcrito: /content/drive/MyDrive/Proyectos/Transcribir a texto/Audios estandarizados/13.mp4\n",
            "Texto:  y lo comparten siempre a ser un poco. Sí, ahorita, me amaste, pero se los comparten, ¿verdad? Sí, es comparte. Y acá comparte, ¿eh? C y a, ¿eh? ¿Sí? Veo. Veo, he ojo que en el caso de ahorita, de esos categoros, se lo comparte a los proveores, directamente a los correos que humanos inventaron. ¿Esta es usted? ¿Esto es también un poco cara? Sí, me amaste. ¿Y cuál lo también lo compran? ¿Y uno de los proveores? ¿Y uno de los proveores? ¿Coclado también? ¿Tú creceres usted? Sí, nosotros hay un poco. Y nosotros vamos a mandar a requerimiento y también bueno, vamos a hacer este tema. ¿Qué ha habido? ¿Y yo? ¿Qué? ¿Me has tenido esos polígamos? Ya se valiera así, manden. Vemos a veces paso a la que manda. Un lote le hace falta polígamos unos meses. Y acá hay que hacerse falta uno antes y hacer manda nuevamente a 15. ¿Tú lo te lo pido? ¿Tú lo te lo pido? Trabajo, ¿eh? Sí. ¿Tú lo pido? ¿Quién lo pido? ¿Trabajo? ¿Tú lo damos? Sí. Porque esto es una relación que existe y antes preguitar el proveo para el bajo. Sí. ¿Y qué? ¿Qué tan poquín te lo quieres ver? Sí. Entonces, ¿que ellos crean los polígamos? Y ya saben cuál es el creo. ¿A qué parte? Pues, yo no dejé de polígamos. Sí. Y ahí somos un tres proyectos que están bien. ¿Ese está algo? Sí. Por eso, una de ellos le han de instalar a base de la distancia en el aire. Y ahora KEI organismo trajarán los polígamos, eso es que solo estamos Soviet fluidos a estaАBlenda. Sent院 bentaki y el reque Qian intro y muchísima al genau interrompente en este caso,성이, paraun免ınız,no adulto, y así. En otros los medios es rewindes ahí. Yo de hecho, peor a husas, se cepa, de la porque está чтоб hablando del papel,ismas de la Luna vez más o menos, realmente entender en el juego de cárgata o wardia автомоб<|sd|> femellaAH formas que Posito también que antib政治 ¿Es un ש Demor mayoría de ustedes? en tu la vertigo unarning para que ellos estä principalmente ¿hay aqueles 200? Para Pr� disciplino speramos de familias ninguna przekona y hay personas bombadas y a este caso se queda la medicina de la comisión y la vamos a acabar ¿Sí? ¿Sí? ¿Sí? No, no Solo, el sistema es... ¿Qué es lo sé? A A Y el sistema es E M M M M Pero el sistema es cargado por ti ¿Qué es el sistema? M M Y aquí, ¿Pero hay un video que te interesa? ¿Sí? ¿Está por favor? O sea, para sacar un juego, por la salencia ¿No? ¿No? Así que no le está en la misenta de esa. ¿Qué hace hoy? Y hace hoy, sí, pero como lo dije, a veces no te voy a enseñar ¿No está muy tan bonita el señal? ¿Y todo lo que tiene en un video? Está muy muy bonita, ¿sabes? ¿Cómo hay que ver a que hay de quince y hay de malesas? ¿Y de quince? ¿Y la quince? Tengo una nana de forma donde parece que lo es y que haría la nana. Pero ese telaré es en base a ¿A lo que yo no te reas? ¿A lo que yo mire? Y aquí a donde yo ya te capitalizo que ese no se roba por tu rigo. Y son con calestas por que más hay base.\n",
            "Audio transcrito: /content/drive/MyDrive/Proyectos/Transcribir a texto/Audios estandarizados/14.mp4\n",
            "Texto:  Es que como ya no se nos sonamos, pues no se nos han dado problema. Y de una vez se llegará a los institucionalizados y le pongan ese políbo lo va a hacer porque yo me he dado cuenta que los supersores pasan ahí en el yo-miro que deshica, así es que la muerte se nos polí. Ahora está. ¿Está pasando esto? ¿Está pasando esto? ¿Está dando la pinta? Lo depende, ¿qué enseñan? Lo puede hacer en el teléfono. Pero me he dado cuenta, ¿no? Sí, pero no tiene ni interestedas. ¿Por qué? ¿Por qué? ¿Por qué? ¿Por qué? ¿Por qué? ¿Por qué? ¿Por qué? ¿Por qué? ¿Por qué? No. ¿Es lo que aquí te no hay trabajado? Sí, no, pero ¿cuál es el que tiene que estar? No. Lo que lo va a poner un poco. A nosotros nos acánde al utilizar como a tuve, o sea, ¿cómo están? ¿Qué? ¿Qué? Como en... ¿Y está ahí nos operaron 10 plazas más? Porque de recuerdo, vamos a ser una... ¿Cómo? ¿Dicen de ahora que trabajo? ¿A? ¿Usted hicieron contratar más, eh? ¿Pas de aquí adenimos de lo... ¿Damos logramos? ¿No? ¿No? ¿No? Sí, pues se van 6 y contratado, ¿no? ¿Y se van? ¿Y se van? ¿No? ¿No? ¿Y eso que es... ¿Y a la vez sale la idea? No, es que viese que... Los tratamos bien. No, lo tratamos bien. Lo único que pasa es que... Pústamente por eso le digo, Ronald Amarita, que está en un levantamiento de nuestro proceso. Y tan fuente a esto solo es... Aplicar. Y aquí os miran en un pizzo, miran claras, enfermedades, la picatinos de mi programismo. ¿Pas de aquí? Y eso es solo una cosa, ¿no? Y queremos que la gente vaya a aplicar a veces a la noche. Y queremos que vayan a aplicar a veces a la madrugada y que tienen en el día las demás de Avaler o entonces... ¿No? ¿No? ¿No? ¿Pas de aquí, por favor? Una, son unos menos preves. La idea es que la gente va a hacer un poco. Amarita y un gran amor. No te lo puse. Sí, ya. ¿Qué es el tipo de esta idea? ¿Se los maquemos? No va a vio. ¿En mi caracéaco? No, si ya, todos nos haramos más específico y si yo, que no es su programa ya, no te lo da mirar. ¿Tú ahora te he cinta que el Aéxinama no te pareje terminar? Que al final era un patrulleta de la que te pinta la matrización por ahí, no te lo da lleno. ¿Sí pueden hacer el de estar ahí? ¿Penal lleno? Exacto. Va. Entonces, he oído un amor referencia y como se hace la repreencia, también pega limpiéndolos con bragas. La verdad. Y ahí hay que ser más de un material. Pero sin más de dos puestos, también como que valida, esta parte de los polegas. Ah, o sea. Sí, que si. ¿Ya primeroAfter kay? Ya has tenido la variación que he lo drew de aquí, es de los polivaajeros que no serv rehabilitation las personas.鹠 clicks Ya ya checks, ya lo tienes harus supportive, ya lo autoridado. Ahí aqui hay una variación simples, por ejemplo. Una al marcarol. Mato. ¿Qué es verificación? Esto es la variación. ¿Acien que la tira que un verto? ¿Qué es la tira que un fusion? La tira que un fusion, ahora este uno tiene para que se trata de la tira que un fusion. Vienen. Ahí a veces está lo dicamente de la gente a pdc, en su mayoría de veces. Super soror. Super soror o montor o capurar como montor. Pero ¿quién no lo funcionan? En ejemplo. ¿Pierre ser el super soror? Pero como a veces te has aprendido a ser el mismo lugar. O ahí en el sector de la tira que un verto también está el bonito. Otro que tenemos como el super soror y a veces cuando hay... ...fijalo que nosotros hay dos y está finca, peimos a fuego a finca. ¿Acien que le hagas? De pele. Pero ¿no lo funcionan de campo? ¿No se lo hagas? No, no lo hagas. No lo hagas. No lo hagas. Monitor y su fruto. ¿Qué más está en el fusion? ¿Pártate, ¿cuál se me enlayan a tu lluvia? No. Oigo. Porque nos estamos limitados, solo para el servicio de un mamá verde. Son para la naturaleza. ¿Ya todo lo que se le estaba o tiene que igualidad del proceso de los abiernos? Sí. No ustedes. O sea, no porque nos tenemos que hacer más para el propio. Ah, sí, pero es la por... Para ir entretiendo la parte de quien está... ...y quien... ...sabenán, es que en varía la calidad de la institución del servicio de parte color. ¿Pas de que estamos sus profesores de 13 horas, los capos de rego? Por ejemplo, el progóner es el vicio, es un niente de que ellos van a encontrar su labor con todos los regoles de la actividad de un mamá verde color. ...en su patidad. Los profesores son los de la alta secundas, la actividad de los que ellos representan como servicios. Pero que nosotros comenzamos a comer.\n",
            "Audio transcrito: /content/drive/MyDrive/Proyectos/Transcribir a texto/Audios estandarizados/15.mp4\n",
            "Texto:  que se ha tratado una de los sententes, pero esto es en el campo. Entonces, ¿cuál es la función de los servicios y que en el público no se vienen a sin nada? Pues salen un solo al del control, lo que se está haciendo físicamente, que se cumplan los parámetros de huel, que se tienen esta reciente. A ver, ¿qué es la mudura que se tenga? ¿Qué es la mudura que se está haciendo? Lo que pasa es que los parámetros de huelos en este caso son los dos, verifican que anda la mudura correcta. Si podemos tener las acercaciones por los propios, pero es nada, por parte de la investigación, es muy nada que valide la actualidad de este servuto. Por eso están los dos. Hay un tipo de projeio, un tipo de projejo que los dos, un tipo de interno. No. ¿Qué es el caso de la área en la nena? No. Ahí no. ¿Por qué eso? ¿Por qué eso? ¿Por qué no? ¿Por qué no? ¿Por qué eso? ¿Por qué eso? ¿Por qué no? No, no, no. ¿Por qué eso? No, no, no. ¿Por qué eso? ¿Por qué? Y luego de la investigación, yo voy a tener una media clica con un proveedor que es el texto o qué queda de este servuto. ¿Y por qué eso? Bueno, eso es lo que es laatura, que hace la consama y una boleta que... ¿Qué es la boleta? ¿No tiene que hacer su proveeta a alguien? La verdad, si laatura es el escoldo. Ah, no, la patura es el proveo. Es la nena, sí. ¿Qué es eso? Es una boleta que en el grande. ¿No, maquina? ¿Por qué? No, esto no es la boleta, no es la que no es la que no es el proveo. ¿Y luego una boleta? ¿Qué boleta es? ¿Es la piza que vamos? ¿Para? ¿Es la boleta de la madrugada? No, no, no. ¿No es la boleta de la piza? ¿No es la piza? Es una solpora que ha quedado en la variedad de que se le dio el sabristo. ¿Qué está boleta de la piza? ¿Qué es el sabristo? ¿No sabéis si es la piza que nos haais? ¿No? ¿No sabéis si es la boleta que nos haais? No, la boleta que nos haais. No, sí, sí, no, la boleta es el paraquistro. ¿No, ¿estás? No, nosotros, es lo que se usa para nosotros. ¿No, me quedamos en el tecón? Sí, algo que se va a utilizar. Sí, pero se lo va. Ah, sí, oye, sí. Sí, porque dice... Se muestra todo mi información. No, nos quedaba. ¿Cómo va, nos quedaba boleta? Es una boleta. Es una boleta. ¿Qué es? O sea, es una factura. ¿Qué es? Bueno, eso ni es una factura. Estoy a la orden de publicación y un requisito. Ah, sí. Y es el vio de toda la orden de mi mejora que es de estilizar. ¿Qué es? Sí, pero no tengo que tenerla en el momento de que me empacaste de la boleta. ¿Cuál es que es? Una orden de mi opinión. Definitamente. Definitamente. ¿Curta la orden de mi opinión? ¿Curta, digamos? Sí. ¿Curta? Sí. ¿Curta? ¿Qué es? ¿Tú? ¿En que más antes está la orden de publicación? Sí. ¿Qué es que es el requisito? ¿Qué es? ¿Qué es? ¿Qué es? ¿Qué es? ¿Qué es? ¿Qué es? ¿Qué es, holeta? ¿Pero tú, al fin, yo no me he dado? ¿Y más? ¿Ya teniendo de tu llegada? No sé si feliz a nuestra boleta de maquinario, ¿no? No, porque no he dado maquinario. No, yo yo en su auto. ¿Dahí puedes esperarlo? Pero ¿qué es esos personas? ¿Cómo les pago? No, pero es que he estado recusando. ¿Y le llena muy bien? No, todo también. ¿Sí? ¿Tú? ¿Qué hace cuando tú puedes? De ahí. Si tiene que ir a Járqueda a día acá al edificio a crear su abicción de esa era. Todo el tiempo. Depende, no todo lo que hace, pero él os reo. ¿Va a leerían de estar todos los días, pero no se jueguen? Porque a los segundos ustedes venían sin reo, porque no nos venían colar ustedes. ¿En realidad no conozadas traiendo las encerras? En el cierro que sí, eso es de poco se puso un rango de días, que se le mandaba. ¿Qué? De días a dos días. Pero ¿qué se le agro de día? Es que pusiera la mano de tu abicción. El rango, ¿cuál era la de 10 o 10? Entre. Entre 30. Pero en la realidad, ¿cuánto se saca con lo que lo pone de esa? Es para darle, porque si ustedes están aquí, nos entrever su o vienen a jarad los 2 días, porque en 3 días, pero estamos sientes morientes a dar 7 o 8, no de 10 días. Y esto se le se vea más. ¿Acuál es? Acuálmente si nosotros lo hacíamos recibiendo, pero ahora está que aplicaciones a la de otra mano a transición por necesidad que recursos humanos de una directriz se trabaja. Solo 12 horas, ya los sorpresores de la creación en la red no van a poder estar acá como vos van cuando tenía tu número 24, quedo deñada a 1 o sea, a 2 o sea, a la otra a 2. Y en mi caso, te lo ha salió 40% en el campo por los temas concentraores, ya que simplemente nos tenemos a nadie más que intensiva. ¿Qué hacemos nosotros cuando recibimos la vuelta, solo os dedicar que el área que trae de la orden de combinación sea el animal de regismo?\n",
            "Audio transcrito: /content/drive/MyDrive/Proyectos/Transcribir a texto/Audios estandarizados/16.mp4\n",
            "Texto:  que el costo de operación de la obra de Coror sea la misma regismo que es lo mismo que canaliza el encenceado de la obra de Coror. Porque a él también le entrega moreta, nosotros vamos a ver. Pero lo que queremos es corregir esa parte porque le entregamos su profesor, me entregan muy van con mi directamente. ¿Esto de los 10 a dos de día en fiel de todos los que estamos haciendo? Exactamente. ¿Ya están en procedimiento? Sí, eso es lo que se estableció al cine. Ahora bien, lo que nosotros estamos hablando con los estáboles es de que con el cine de mi chilar nos pierden una boleta y vamos por control en un aspecto para saber qué lo que estamos efectivamente, es que en guarde que nos den a emplear a nosotros la boleta sin que se las escenar al río que él le reciba a su lado una sola persona. En este caso, por ejemplo, que busca su profesor y le darán a él el paquete boletas que os dios que hay que es lo que es de lo planificado que han entregado boletas. Porque eso es importante, la obra de combinación va a ser el ti para poderles, para después a por lo de servicio. Si ingresan a sistema de obra de combinación, les sale de los pagos, si no no tiene pa. Después los que saborten de combinaciones importantes, si lo hacemos de esa manera, analizamos eso. Así como me mandan a mí que sólo el consolidar toda la información de los derechos supervisores de los programas que las boletas de los derechos supervisores que es la toda generalizar más y que por ejemplo que él se las se crea a carri. Y que son los que sean dos personas las que tengan la autorización de utilizar esos manos de ese tipo de boleta, porque eso es para trabajar. Eso me cuenta huerte. Pero en la realidad no lo digamos es de que estamos responsabilidades porque realmente no es de que no es de insolidar, no de es nada. No, ya tampoco lo veo, ya hablan. Porque si no, entonces... Aquí le estás haciendo lo que estás haciendo en traúquete. Y lo que pasa es que si te colamos todo atrás, lo sé mejor aquí que hacés la gente. Y la gente me cae esto. Pero se supermiste en el separio. La gente ya no tiene interés, porque realmente si lo vamos financieros, la gente se sufre clas으로. Es un buenis asunto. Fizá, en la supplies y también hay un dato. Estamos vomitando la crecación, smector ap�기도 que tiene unisto. Sí, así es este. Nos echamos preparado y tanto y pues, les debouar weighted de esta 결과, conquer elúcar a lo que dificulta, y lo también dice ahí, pero para ver lo que objetivo. Entonces todo el proceso de aplicación es pasaría la administración práctica como ahí. ¿Cómo lo vemos de la situación por eso? Lo que hace es que el punto de no tener todo consolidado, es que esto no es el lugar porque no se en yo planifico el que el punto de empato. No, pero este es la doneta, o sea, esto es más importante. Sí, pero esto es una responsabilidad pasada a otro lado que le descargué a ese punto y todo el sitio. Si lo preocupate, ¿qué es eso que le digo? Nosotros no tenemos permas que os amamos. ¿Qué pasas tienes que licir? Sí, y está el acceder. Y el problema, lo que me da preocupa es que se traicionos documentos que son de mucha variante. Sí, por eso. Que para este entregar, no hay un nuevo punto. Y que hacer nada, no para intentar ser el acceder. ¿Qué es el punto? El problema sea lo que yo ponía esa opción, porque ¿cómo vamos a saber cómo va la pronunificación? Todo esto es que la pronunización se desprograma a poco las opciones climáticas por la cientalidad de equipos. ¿Cómo vamos a saber cómo va la pronunización? Yo no puedo dar ese control porque no sé cómo lo está empregando. Yo es programa de la oficial. Yo lo que pienso es que yo me decía igual que de su momento. Mira, lo que pasa es que le da un mente. Cuando yo digo que a parte de esto se da una línea o lista de roles, porque tenemos que ir duriendo porque la verdad es que no todas son roles que no nos corresponden porque ni más que hacerlo, o más, no es lo que siempre nos ha pasado así. Sí, es lo que va a ver que hacer aquí. Yo no puedo decir que va a ver que es la verdad la mano, o que van a intentar ni que reciban, van a intentar ni que lleve realmente porque por ejemplo, como vi un punto, porque por ejemplo la ejecución, nosotros no nos vamos a ser insolvidos a los ejecución también, la inopificación de servicios, la inopificación de ejecución, que llevamos los avanceros, que llevamos a calcularos, que los que garantizamos, que están haciendo bien, o los que los pueden decir, que cuentas a picarse bien en la calidad, en el momento con otro pedí, somos nosotros. Pero aquí estamos, nosotros que nos hacemos todo antes, pero lo que pasa es que no podemos ir así porque son roles que no deberían donde tener. Pero ahí nos estamos llenando de roles y por ejemplo, ¿por qué no os va a estar? ¿Pues que le estarás suyo de superloque obsidiendo? ¿Pues que le estarás suyo de superloque obsidiendo?\n",
            "Audio transcrito: /content/drive/MyDrive/Proyectos/Transcribir a texto/Audios estandarizados/17.mp4\n",
            "Texto:  que estaré a un siguiente ahorita y voy a ti que te eres, pues ya ni es el chante de pinta, o usted lo que nos proponde tres. La verdad que el servicio aquí es el que te manda el programa, vos suprisa, voy a gasto antes, vos lo hace la coleta, vos mirás realmente se pago en el pará, pero yo de quien damos, el por el no tiene estructura, pasero, pero nosotros tampoco pero tenemos que ver, en los des, ahí hayan de bien el parque de procesos y no dará su responsabilidad y nos dotan y mo, como no otros, al final también te encerrisa, a los otros próximos, tenemos que responsar de todo, a ser, así es. Sí, lo que pasa, a la gente no te regresar en esa parte, por ejemplo, nosotros ahorita estamos viendo 60 años, 70 si con un parque, con 6 40, no no no no, pero eso es con 3 de ahí, solo para que te entiendes, entonces imagínense, 70, 5,000 ver sus 7,000 de parque, pero lo que pasa es que hasta acá nos fue magnífica, gracias por tanto, se aprechamos 150,000 de ti, y todo el dinero. Me refiero por el tema de lo que estamos practicando, de que si es necesario entender para su madre. Sí, sí, eso si estamos haciendo. Y luego del traslado de la coleta, ya la tiene igual que lo de su poder, que pasa con los coletas. Yo soy un reviso al área y el puesto de dólares por el parifa de provodos, y se le entregan más. Y si hay algún malo nos habéis, porque hay errores, en los no, si hay que no hay errores, hay errores, a veces no pedalar, hay que no pedan a los datos y ser un reviso. ¿Le enviarás la coleta? ¿Le enviarás que se acusca todo el campo? ¿Adiós?καven, cuoco, la parifa de provodos y ser muchísimo. Y eso es lo que trataban, ¿venido? Ah, José明白ado, compañini personal refúcoloso. ¿ volunteers này? Bien, este es la incarnation, no le луч Illustriendo lo videoconfeldes, ahora nos prixaremos del colegio adalah y que se dan opuesto a las autoridades de la Schluss de oct任. Es el Mexico, si sáface pero siφ Adam blanco y rectamente los creados de Radio de Yes? No��as, síón con few Catholicos en laspliciones de la uhhh Nvinga y laosa roast Ts万 Moviendo amenha maravillosa or hopeless, como spatamos y a raíz de qué, porque lo que nos salieron es porque no tenemos nadie que estar empezando en los horetos, porque hay muchas por la etapa, son volando. Entonces, lo voy a dar un ejemplo y lo podíamos tomar por lo para poder adelantar. Esa es una ocasión una horeta, nos parecía y en el humilde lo la tengo. Es que en la tierra, como saber quién tiene esa horeta, si no tenemos un ente que está consolidando ¿conceso la 1939? Fíjese que bouncy el eggs com beginning y el proveedor se hace como historically lo�VO. Yo creo que misota no te recordara. ¿Porque un cubidor es posible? Si ustedes no pueden solorar binnen<|pl|> ¿Qué tienen consultante? Això es una del Team UCURLA. Pienas tienen como un determinado humor, donde está el sabor. are, entonces, esa la raíz se vermán por las que para nuestro Podián nos está transformando, la atención, lo que te digo, ahí me ente a todos, pero cuando una se puede extraver como decía a Inero Walter, como detectar una srea, a ese es uno de los casos, ¿no? Entonces, eso era lo que quería comentar, ahí me han puesto una boleta de esto, estoy de aquí, pero la Andrea me persona, quiero que algo es muy álamos de que en el proceso de la hoja de los situas, entonces, el posterior que pasa a la de compras, que es la historia, ya es, se ensagan de elaborar un pedido, ¿verdad? Después de una solicitud, o sea, un pedido, ahora, este pedido también tiene un tiempo estimado de la población, y eso también hace de que nos estendamos en el pedido de un mieto para su limpiar en servicio, porque le digo eso, porque, en regularmente, apartamos, ya vimos, casi unas semanas después de la grabación de la liberación, nos quedamos al aspecto de la creación del pedido posterior a una creación, vuelven a activarse las estaciones del pedido, donde la está ahí, en todo lo que eres, correcto lo que cargan su limpiar, y, de acuerdo a los motos también, también ya le llega al ineniero, que ahí son un pedido, y, obviamente, son pedido bien grandes, exceso, y no es una\n",
            "Audio transcrito: /content/drive/MyDrive/Proyectos/Transcribir a texto/Audios estandarizados/18.mp4\n",
            "Texto:  a retentarnos para poder liquidar el servicio, por el tema de estrategia de liberación. Por el dinero para este. ¿Usted vienes y la boleta? ¿La empresa? ¿En dónde? Le decida porque para el cual la empresa necesito que el periodo pueda ver. El periodo. ¿Puedes crear si se podía dejarme en forma de pasión? No, porque no te querías que pudiste recommerse. Perdón. ¿No te interesa que la situación de la auseta? Y la empresa. ¿En dónde? Cuando mando el traigo, ¿increce la situación de laadora? El cual. El cual. Y esa es la propuesta de la comunidad. Y dicen que hay más personas que le ingresan mis arpeños. ¿Este es la situación de la República? Siempre nos senten las recuerdos. ¿Eres la la otra? ¿Eres la más mala? Ahora. Ahora. ¿Eres la otra? Una vez sin ver cada vez un formacio, ahora, entiendo que el periodo ya tiene el proceso de neutralizar el tiempo, ahora, pasas por más para el periodo. ¿Qué te pago? Para. ¿Y no pasas el periodo? ¿No está? ¿Y ver? No puedo proceder el periodo, no está al mercado. Pero, ya, un formacio, hay una migración con un uso de... ¿Qué pasa? No sé, ¿qué? ¿Cómo fue? Al final, ¿qué pasó con nosotros? ¿Dónde lo más normal? No lo hacía el sistema directo. No hiciste un trabajado. ¿No hiciste? No, no hiciste. Aquí ya se ha disfrutado igual. Pero ya se ha disfrutado. Exacto. ¿Qué es? Esta vez un formacio, una vez de madurante se extra, y ya se lleva a más a menos. Pero... Es el más bien. Es el encel. De acuerdo a los plómenes de... Es el encel. La descarga se es masiva. ¿Y crees que si el encel va al mercado? ¿De ahora? ¿Hasta? ¿Qué pasa? ¿Por qué? ¿A? Y cuando está en encel, hay alguna afroación por aquí. ¿De qué? ¿De qué? ¿Qué? Cuando... No hemos terminado a crejar más que ya tengo el periodo de motor que veníamos hablando. Una vez que ya tenga todas las estrategias de liberación, ya puedo ganar la vez. Cuando ganero la vez, automáticamente cae a la instrucción. ¿Y esto cae? Es el que está en el tren. ¿Y el que está en el tren? No hay la vez, no hay la vez. ¿Pero? La vez. No es ya no es la vez. A ver, hay unas que están asoplicito y pedido y he ganado. Vienes que ya se lo dejen en el argumento. ¿Y ahí? ¿Una vez te quiero, ¿qué es? Se vuelve a enviar al comportamiento de ese desn. ¿A qué está la vez? En este caso, que es todo el desnudamiento. ¿Tú también, Carlos? No. ¿A qué es por qué? ¿Pero, ¿cómo está en el pasamiento de mi ojo? Cuando ya se que trataba de también enseñar cada día con un universo y con un mejor parado. Y para el parado, la haya para hacer el parado. Yo somos que pagan por quién. Ahora, ¿cómo está en su viernes 12, 20, o menos, 2 meses de extraño hoy? Ya, hasta ahí, ¿me pareció los tres meses en la abureta? ¿Y si usted no me merece en la abureta con cuántos tipos de hace de día? Lo que es que ustedes, los pedidos, los mismos también sacando, ¿cuál? Por ejemplo, ¿y ahí? El parado antes, ¿y ahí ahora está? ¿Y por ahí? ¿Y por ahí? ¿Y por ahí? ¿Y qué es el que es el que está en su viernes? ¿Y qué es el que está en su viernes? ¿Y por ahí? ¿Y por ahí? ¿Y por ahí? ¿Y por ahí? ¿Y por ahí? Pero digamos que en el parecido de junio, yo puedo interesar la abureta de en el candeleteo por cualquier. Sí, bien. Sí. Es como el sistema tomada que estamos iniciando. ¿Y por ahí? Y también, ¿por qué? También, ¿y por ahí? ¿Y qué es el candeleteo? No hay oxides en el cielo. ¿Si es que sea una fecha de aplicación, ¿y la que es un pleno? ¿Y por ahí? La aplicación fue en que inceden cullos Y nosotros podemos a 15 a firms y a fil REP? Ja siempre, porque nuestra naktan se le orgulló. Roda y las sentencedmen de 15. Hier鄂省, vigente y silk업 voce. Has encontrado 31 y Совés boards мышcable para realizar las sentencedmen. Rong' disciplines. Hetero.\n",
            "Audio transcrito: /content/drive/MyDrive/Proyectos/Transcribir a texto/Audios estandarizados/19.mp4\n",
            "Texto:  siempre y cuando el pedido como os va, regularmente no pide fecha de aplicación, solo pide fecha de que estoy realizando la gestión, de que caso la gest es que en la captura por qué, porque el momento de generar la gest, esa fecha cada vez en intervención, cada vez en meses, se le dio una fecha de contactación por el pedido hasta que el des understandme también. si no mas, sea de innocenceito bir, Sty ск繼續 creendo? si supongo que garganta pero el pedalra se puede ver con kay re ose si por que dice, lo va a estar los hierres de un mes en ese sámbro y por ejemplo de julio y julio está cerrado a vuestro horito de hasta cerrado, no se los permite encargar en ese meso, no que la verdad. ¿E incluso se que pagan también a veces? ¿No lo vais a necesitar en empagar los flores y les pagan dos veces después? ¿Eso es la instección de esta servicio en entre su puesta? ¿Le va a pagar cuando ingresas? ¿Cuándo ingresas? ¿Cuándo se pagan? ¿Tengo que descuando se pagan? No, hasta que se pagan. No se genera la pieza. ¿Le agregan la pieza? No, no, no. No se pagan, se generamos la pieza directiva exactamente el que le voy a pagar por acá. En todo lo que le pasa es hoy, es como para la ciudad variable. Así es. En el presupuesto, cuando desfractan, cuando nos conoce a lakeep ayer nos kayemos el distor. ¿La citación? Si te bakas con el pecho de tipoalanco, el vitamins y la protección showers test. ¿No hay que hacer? ¿No hay que hacer? ¿No hay que hacer? Sí, y todo lo que importa es de la programación. Aquí, este... Por Brighton... Este. como una야지 fíjase la boleta. Como está el mining tengo�� todas conductantes. Cicamogasalec laboréitas como esta, nuestras opportunities. En los productos, estamos rodeando temas. Como eshumanismo especificias y en qué det quality y la procesora es probablemente requist kocho por cochina y las flexualidades más anuncias ¿Y ahora? Sí, cuarta a un otro grupo que está en la un ser? No. Ahí está. Ya lo más que está, es como tengo lo de siempre. No es todo que ya tiene canses de ahí. Es un marco. Ya. ¿Y ahora? Sí, creo que está. Pero mi caliente de más es que esto menos servicios siguen para poder apetar a otros procesos. Y es todo imporredor, es decir, más fácil. Por que dos aplicados en la petición. Ah, está. ¿Y ahora? Sí.\n",
            "Audio transcrito: /content/drive/MyDrive/Proyectos/Transcribir a texto/Audios estandarizados/20.mp4\n",
            "Texto:  hace varios años y el cual es el arroz que hoy no lo trajimos y el error de ellos de Costa Rica estaba que ellos tenían una montaos sobre una pesa de ganado y así lo mantuvieron y así murieron. ¿No lo mencionarí bien? Sí, así con la que hay cosas que las es hacer. Ah, sí, sí, sí, sí, no, no lo lo lo lo lo lo lo copiamos. Y yo es el último sí, porque no digital es que no es que hicieron que no funcionaba, no lo había dicho, pero yo voy a dar ganado y me lo traje a ganado y no funcionaba, no funcionaba a ganado y entonces si eran cantales a ganado, entonces ya no hay soluciones exactas que son los del sistema de traje en la empresa de la Báscoa y ese es un bicuade y le digo que es un reto, yo sé cómo es el doblonazo y con él desarrollamos el sistema digital del sistema de pesaje que usamos hasta hoy en la regionales. Entonces es un carretón y lo hice realmente, retiramos un montón, lo hemos venido reimentando y hoy no es lo que era cuando lo trajimos no es ni cerca, pero digital. Entonces es un carretón que tiene hueas y todo es calado como un trato, lo que hace es que tiene el espacio para esas parcelitas que ustedes ven ahí, esa es las fortan personas, pero este tema del pesaje es solo de maldalena, los desencáñas, no son sus. Tiene el bien, la de cadenas, que no se lo explique porque para que no valiera la preclava, pero todo se equivocen y todos siguen siguen usando cadenas y la verdad es que era el preciso peligroso y todavía se siguen usando, entonces lo que pasa es que ese parcelerío que ustedes ven ahí, la caña se corta y se deja, es la parcelerío que ustedes ven ahí, la humigación que es cada modo, cada lo que o o o o que es que la parcel y tiene nombre y apell, entonces lo que hacemos es que se incidencialmente si pasan a la parte o el carretón y lo que agarras del modo que es la parceler, lo echas ahí y lo que pesaces lo que está en la parcel. Así es, si es tras ciento uno, tras ciento uno y ahora la ponés, o sea es que está ahí, entonces ahí lo llevamos ya, la ciencia, el asiento uno empezó, está en el sanario, o sea, entonces solo el camu vierno ahí y empezó 1.500 del 1.500. Y ya viene la alzadora, saca la caña, la vez que en el mismo lugar y vamos a la otra parceler, las 102 y así se va, así se pesa. Entonces es 1.500 kilogramos en 75 metros cuadrados. Es el dato para luego sacar y llevarnos a un entario y es un estimado, pero ese dato se toma tres veces porque la variasta tres veces ahí distribuida en ese bloque es con puntos a la parceler. Ah, ok, la distribución es a las ángeles, es de que los bloques estén. Sí, porque lo que cuate se hace a las ángeles, porque no te les condizones controladas. Ape, porque está bien apiente, porque está lluvia, porque está lluvia, porque está lluvia, porque lo que tienes que poner en la asa. Entonces tenemos tres datos de TH en esa medida y lo llevamos a 10.000 metros cuadrados, que es una hectárea y así es como tenemos el TH de cada abaria. Y así es como repite la azúcar, tomamos la muestra de cada abaria, etiquetada y la mandamos a la barató y lo regresan 4 libras de azúcar y luego al final agarrar el TH de la libra de azúcar a los kilos de azúcar obtenemos el tonelada de azúcar correctal y así es como tenemos los tres datos más especiales para tomar la decisión de que es que sí o no sí, ya no, así es como se pesa. Esa parte igual lo podemos ver que es chapa, para que vean cómo es que se pesa, lo que espera un dato cómo es que se pesa, estamos cercazando para ir a los nois de tanto problema. Entonces luego, la mejor desvaluidad es de ahí, cómo está el tiempo, cómo está el tiempo usted, porque ya estamos en la una que decimos. ¿Te damos a la dos? ¿Terminamos esto? Yo soy con su tiempo, que está bien desde el tiempo. Yo digo que ha de dos, porque está para las dos, pero... Yo me quedo en el tiempo en dos, me voy a decir ahorita. Voy a dar más. ¿Tú me quedo en dos? No, me voy a dar más. No, me voy a dar más. De ahí, te dimos a las dos, y no vamos a ir a la barra. Entonces, la mejor desvaluidad es de aquí, de esas nuevas regionales, generales o que de uniformes finales, la mejor desvaluidad de ahí son las que pasan a las pruebas de mi número de pruebas en mi comercial ya terminan 110 y perdón. Y recordamos toda la información de las ejes, nosotros de las compartimos a cercaña. Todo lo que está en gris, toda la información manejo y todo lo que se la compartimos a cercaña, por eso que yo he hecho un principio, que de las ocho pruebas que establecemos de las flores y ocho no flores, se operamos a las ejes y la más. Las ejes, la información que se de compartimos a cercaña, la verdad, la industria. Por eso más...\n",
            "Audio transcrito: /content/drive/MyDrive/Proyectos/Transcribir a texto/Audios estandarizados/21.mp4\n",
            "Texto:  en la arena, si ya portando a ver que el industria es indirectamente con esto. Aún así, también se lejó, aunque sea... ...convenir y esa es la cual, donde yo creo que va a cambiar seguramente. Pero como es algo que no daemos a hacer a un gran de mocha. Entonces, pues, pero venimos y llega a la última prueba, las variades, ya las últimas diez, en algún momento fueron 30.000, ahorita ya llegaron a 10, hace que digamos, 10 años eran 30.000, ahorita ya llegaron a abrir variades, y ahí prácticamente ya vienen otras variables, y ahí vienen una variable aparte de la de CeteH, en una variable sumamente importante, pero así sumamente importante, que solo nosotros como madrote, la tenemos, es la tolerancia de la cosecha mecánica. Esta prueba es en mi comercial, la revisiñamos hace como siete años, acá no es galeo, la industria la tiene, lo sin que no la tiene, pero no tiene una parte de la tolerancia de la cola, la resistencia de la cosecha mecánica. Y ¿qué es esa prueba de la gente ahí? A un jeje, esa es la prueba de la gente. De 75 metros cuadrados y de uso de 5 surcos de 10 metros de largo, pasamos a tener 6 surcos por 200 metros de largo. Y ya tenemos casi 10 hectáreas de una prueba. 10 hectáreas de una prueba. Esta es la última prueba, la que libera variades. Esta es la que dice después de tres años, puedo hacer comercial y no vas a hacer como 7. Y coloco esta imagen porque la cosecha mecánica es sumamente importante para la madrotea. ¿Por qué? Y porque los trope más o menos no tienen esto. Y porque es nosotros. Porque hicimos hacer los empresas de arretro y porque el plano nos importábamos interesaba y eso nos va a dar un plus que los demás no tienen norí. Claro. La variad es que nosotros estamos llevo liberado desde hace 5 años, 6 años podríamos decir, traen esta etiqueta que ha guardado una cosecha mecánica para ver si no no me dan salir. ¿Y por qué? Porque en una lista de años va a llevar la celocheta por ciento de la cosecha mecánica. 80% de la cosecha mecánica. Y no es lo mismo. ¿Por ahí no se muestra? Por ahí no me da. Ya hay alguien que preciendo mucho. Es que ya no hay gente, la mujer, la mujer, la mujer. Sí, entonces no podemos terdero a las ideas que no reciban la máquina. Sí, eso es el tipo de lindicador que nos dice. No podemos. Es que mecánica ya se que va a traer en esa manera, los que tienen los igual y variad y se que caen a siguen y liberando a una variada es... Que son duras de una imagen, ¿no? Es lo cual es el... Es de cosas, y de verdad, no tienes que haber venido liberando hace como 5 años que entran le dan promoción y todo, las manas las agarran y ya no las quese. Y la cosecha mecánica, las hace papá. Ah, o sea, ¿cual es lo que se tomen cuenta en cuanto a la tolerancia? Que se tomen cuenta. Ah-ha, lo que me saía. Ah, ok. Sí, no, ah-ha, pero ya más cuando pasa... ¿Cuál es el lindicador para decir si es oporca que con eso? Ah-ha, es exacto. Es un... Es un... Es un... Ah-ha-ha. Es un que me está ahí. Es un que me está en rojo. Ah, ok, ok, ok. Y, ¿o qué? Y, ¿o qué? La saque sangre. ¡Gracias! Es que la... Esto que es ahí, es una imagen de una nueva semi comercial de nosotros. Si ustedes ven ahí en una máquina, ahí hay que en una maquilla de abajo, este es el que es el que es el que es el que es el que es el la pada. Ah, ok. Ah, ok. No en el sector, ¿no? En el sector manual y en el sector me cansado. Fálicamente nosotros cosechamos esto, man mecánico y cosechamos esto manual. si se dan cuenta esto esto tiene esto tiene los los los los que se está probando la tratempode imagínem pero y van esta está viendo mi mi cursor si vean lo que pasó con todas estas variidades con la cosecha mecánica y vean que no pasó nada en la cosecidad la misma la misma esta línea la misma varia es la misma variasa esta misma que esta abajo en la toda la misma línea sólo que esto fue cosechado mecánico esto fue lo que hace la cosecha mecánica con la variasa la se la despobra entonces lo que vuelves en rojo es la despobraación medida que me dios y lo que eres en rojo es haria o el metro lineal sin cánico que por eso está en rojo ok entonces ellos me dan a mí una un dato de el porcentaje de la energía de despobraación entonces yo puedo saber\n",
            "Audio transcrito: /content/drive/MyDrive/Proyectos/Transcribir a texto/Audios estandarizados/22.mp4\n",
            "Texto:  a mi primer año, mi segundo de mi tercer año, cuarto me produjo, de la de la corretaria la variedad, pero cuantos en espoble también con la cosecha mecánica. Ok, entonces yo voy a tomar una decisión, la variedad puede ser productora, pero si se me despoble en el primer año un 10 o 15 por ciento, es un costo, claro, de una recién para este cincu, entonces si al segundo año se me espoble al 25 y al tercero, ya no tengo entre 25 por ciento esporación, la variedad tal vez aquí me empezó muy bien, pero aquí se me espobleo, muchas gracias por participar. Entonces, veamos la variedad por excelencia, la buena variedad, no lo he visto, si caña tengo una buena variedad, las 163, y comienza la variedad, quiere seguir viviendo por muchos años, sí, creo que hay de ellos, o sea, y de buena, es una muy helada de forma variedad que tenemos. Era la que en el gráfico tenía la variedad, la crecienda nos últimos años, y de hecho en el otro donde se trabajaba, en un nuevo uno de años en la arena se, porque la variedad se llevaba a los años, y estas buenas, y aquí la arena, la de mi, ahí pues ¿cuáles son caja, cuál es? Sí, esta lo voy a dar dado. Luma, cluma, no vas a hacer como como, no, aquí está, que la voy a pintar, ¿qué es esta? Qué buenísimo. Mira aquí, y este está aquí. Ah, ¿qué me hizo ahí? Este está ahí. No se espobleo, ahora voy a buscar otra vez, y está. Es la misma. Sí, tampoco se espobleo, tampoco se espobleo. Mira aquí no porque fue mal, pero aquí no se espobleo casi nada. Vamos a buscar la otra vez. Vamos a ver... Aquí es un poco así, ¿qué es? Esas sí me lo me encontraron. Aquí es un poco, creo que es esta, creo que es esta. Esa espobleo un poquito. Aquí, aquí no porque es únicamente. Ahora, veamos esta que está acá, ¿no sabe? ¿Qué hecho cuáles está que está? ¿Qué hecho cuáles? ¿Qué es este? ¿Me vienes la espoble? ¿Sú que tu huesta? Esta, en el manual es poquito. Luego me voy acá a ver la mi, ¿qué hecho? Por el interés, ¿qué es esta? ¿Qué está hasta otra vez? Mira cómo se espobleo. Y luego la última va a ser... Creo que esta atrás. Mira cómo se espobleo esa variedad. Esa es la misma, son las mismas tres. Eso hace la posiciona mecabica con una área con mi. No resisten. La despoblea y eso no nos cobré. Sí, tenemos que meterles siempre a correo barraffy. Y lo que le dije, principios que nosotros buscamos para ir a aguanten 5, 6 años ahí, sin estarles en tanto. Y está por produciendo caña azúcar. Y esta cosa, esta probas de mi conversación. Solo tenemos el malvaleo. ¿Se con el casado? Sí, esta. Nunca lo empezamos. Entonces la variedad es que han surgido en los últimos años, 5 años de mandalena. O sea, mi importa si fuera un ese oye de hacia abajo, que la no importa si fuera un hijo. Y se clasigo, ¿qué estáis de esta? Pero queda. Pero que tenga esta variable de peso. Es suya vale. Pero no es una, son varias variedad de variedad. Y pasaron por esta, pero intoleraron la cosecha de mecánica. Así, es suya es suya. Y vamos en este caso. Como es que están las pruebas testigos. ¿Cómo? Están las pruebas testigos con las variedad de esta. ¿A qué? ¿A qué? ¿Lo variedad de esta estiego? Ah, va. Entonces en este caso las que el indicador es el mismo porcentaje que tengan las pruebas testigos. ¿A qué? ¿Qué sea igual o mejor? No voy a ir para acá, solo grafí. Vean esta rapida. Este es una, a esta raquisa. Este es un informe de presentación. Estos eran signos de informe, no, no era parte de la clase de ahorita. Ahorita, Juanis, pero se lo acuerdan. ¿A qué si mandan? Ah, ah, ah. Era parte de la clase de ahorita. Estaba en la otra semana que tu te vamos a tener con la demanda. Yo lo comento. Ok, gracias. Entonces, esta que está ahí, esta variada fue liberada hace dos años. O sea, también doy. ¿Pas también? ¿Se te entra en medio o sí? Sí. ¿A bien? Sí. ¿Cómo está poniendo clic y yo? ¿Todo lo que está atentando en el país? Ah, ah, ah, ah. Es verdad. Esa variedad fue liberar a seis años. Vean el deseaje. Este es un informe. Esto es parte de un informe. Ok. Vean el deseaje de la variada. La azul produjo un promedio de tres años cuanto. Sí, entonces, ¿qué se dice? Vean la variada número uno de sefricáneas cuanto produjo. ¿Y la milocadía? La misma cantidad. Vean la tres, cuarenta y uno cuanto produjo. Si, por 54, es ti. La finca, se enfermando el promedio fue de 129. O sea, las tres pacidades. Es una farmada que estemos. Es una finca de lo bono. Es una farmada. Sí, es una farmada. Es una farmada.\n",
            "Audio transcrito: /content/drive/MyDrive/Proyectos/Transcribir a texto/Audios estandarizados/23.mp4\n",
            "Texto:  la pica porque esa prueba estaba en Santernaia. Ah, ok, esa prueba se... Esta es la de las frances. Esta es la muestra. La pica en promedio de la finca, la promedio de producción fue 199. En las tres variedades en gris, esas no sólo eran las tres variedades que estaban en la prueba. Ahí coloque sólo por informe las variedades importantes. La prueba que era la 72.2 de testigo, que era la naranja artística. Y la vista. La vina azúcar. Las de la 29.2, 113 kilos. Las 163.8, la 13.1.107. Y la finca promedio, 113.9. Estuvo el promedio en la finca y estuvo amiga de la dos variedades checks. Otis listo. En tonelada de azúcar correctaria, hay algo que queremos. La variada nueva produjo por tres años distintos. 18.7 tonelada de azúcar correctaria, punto 7 más que la variada número 1, la variada número 2, 16.5, y el promedio de la finca, santerna, 12.5. La variada produjo 14.5, 18.4 tonelada de azúcar más, de lo que la finca estaba hacia el trusva. Ahora bien, el punto 7 es suficiente. Eso, ahí tienen que hacer un proyecto que no hace algo así. punto 1 es suficiente. Ah, ok. A ver, sí. punto 1 es suficiente. Con punto 1, que tengas la diferencia encima de la 163, ya es mucho dinero. Es que tenemos un punto, hay un punto, si es que hay un punto 1, ya es ya mucho dinero. No fuera igual que 163. Está bien, porque 163 ya lleva muchos años, 1 y 2, de digas en momento. No sé, te más de claramente nos ponemos. Tema de claramente entre las que van a roper, muy pronto la variada, el rope, su resistencia rápido y no podemos estar tampoco, llevar a tanta área a las 63, tenemos que tener otras arrenativas. Termina siendo una tema activa, la otra variada, pero en este caso está de bien. Va a quitar más o menos las diferencias. Aquí está, en los tres años, cuanta flor, la 63 no produjo flor. Las 72 y 2, un punto cuatro, exploración del promedio y las 13, 41,8. Corcho. Era la variada nueva, 5,6, el sector de 3, 3,6 y 13, 41, 3,2. Está más alto, sí, pero no hay problema. El 5 es un buen dato, del un gran, esa arriba de 12, ya que ahora que ha habido a pedirlo, tenemos 5 y esta, estamos aquí. El produjo de un nuevo problema, una azúcar nuevo, problema, y está sobre lo por punto 7. Seguimos. Aquí está el suminforzante, lo que quería acá. Después de tres fuertes bicámicos, aquí está de dos, pero aquí está, aquí, y se claramente, la variada tenía 10.3, porcentaje de espacio, así, después de dos fuertes, las 163, 8.4 y la 13, 41, 7 por ciento. Famos hablando que tenemos un 2 por ciento más entre las 63 y las 79, y Dios. No hay problema con eso. ¿Por qué? Porque las 163, la variada aquí, mejor resiste la posicha mecánica. Entonces, esta condición de San Fernando, aún así se es, por lo ya, mucho por ciento, después de dos fuertes las 163, y las 179, eso no llevaría, es otra variada cualquiera, en San Fernando, llevaría, y de hecho, los están las otras, después, aja lo llevaría, 15 veis de 30 por ciento de su población, pero un 2 por ciento, está muy bien. Ok. No, no, no, por fin, la cual pasaba un 2 por ciento, no hay más que a los problemas. Aquí está más o menos que debimos en enfermedad, 2 por ciento de joya, no hay problema, es una joya, y un poco hago entre 1 por menos de 1 por ciento. No hay problema sobre dos variades, enfermedad es que se controla en el que no pasan. Va para el domestre de noviembre, de diciembre y enero, las pejar de cierta, y aquí está algo de biometría, después de cinco meses, 19 hectáreas por metro, este tiene el 1, y esta tiene 15, y aquí, al túle y ya no forma nada más. Aquí hay otra variad, y así, estas son cositas que ponemos ahí, de... miren, esta rapida, estas otra variad, es el vigoroso también. ¿Pasé dos años? Está, veis, yo sé, cuatro para la dijimos en el tranón, esta ciedad de tercer terzo, para poder ver el marzo de abril, aquí, rapido, solo rapido, aquí la variad nueva, 19 de las, contra la RB, 18.7, este es un punto 3 de interés y las 163, 18.5, estamos hablando de 0.5 diferentes entre las 63. ¿Rapido? Pues hecha mecánica, después de tres cortes.\n",
            "Audio transcrito: /content/drive/MyDrive/Proyectos/Transcribir a texto/Audios estandarizados/24.mp4\n",
            "Texto:  y sí, la variedad nueva, 6.7 nada más se expobló, las 163 igualito que está muy bien. Y la RV que es la que produjo mejor que las 33 acá, 8.36, es un problema más, ella que la variar nueva, pero esta es un problema igual que las 163, está muy bien. Ya, entonces, ¿verdad esto de verdad? ¿A dónde estabas? Aquí, eso es lo que sacamos en el concentaje de exploración, TCH, eso que vieron fue un informe de una clavación de conversar entre escoles, ¿verdad? ¿Qué es donde liberamos variar? O sea, y ahí es lo que así es como liberamos. Luego de la liberación de variar la pintor, y allá, con esta voy, con esta voy y me despido. ¿Cómo está? Ya, que resta el vestido, como es prácticamente aquí llega los tres años de lo que hablamos y vimos hoy, esa variedad es que sacan ahí, que sacamos que ahí forman hacer parte del plan de ordenamiento guayeta. Son las variedades que llegan a la eventualidad de mandale, no todavía hacer realidad en bloques, todavía no? ¿Claro? ¿Llegan a la virtualidad de los tres después de los dos años? Después de los dos años, llegan, yo las presento en los informes, en los hipócios, en las hidas, en los jefes de producción agrícola, y ellos dicen, me gusta la ventillo cero cuatro. Vamos a hablar del ordenamiento variatal en donde la vamos a poner eso, en donde la vamos a poner, no lo dice, esto que está acá. Eso no lo dice. Me lo dice en donde la probé, en la zona de la ecológica doce, el hipuedo llevarla al 12% de la variedad de mandale, siempre y cuarto, siempre y cuando sea el tercer, esa variedad es esta variedad, sé que en vez de presentar el servicio, las pruebas en estas zonas arrecológicas, y la puedo llevar a estas áreas de mandale en porcentaje, que representan el 28% de mandale, no se las puede llevar a mucha más área, esta variedad, la puede llevar un 7% de mandale, no se puede llevar a un 3 a 3 a 3, así es como me llevo yo al trato ordenamiento variatal. Ya digo, ¿cuándo esta profiga está en la zona de ecología tal? Vamos con la nuestra se lo cuata, más que ya ahí le va y le freguen, porque ahí nos va a voluntad, te atratar, te atratar, así se alimenta el clánero. El mando de naminito va a estar en los rupitos, son los cuatro nilos desde la demanda arena, que tienen la variedad, la variedad, que va a ser en su momento cuando la renovación llega. Entonces, el plato de renovaciones para saber qué variar tiene, se alimenta el plato de naminito variatal para que yo mismo agarra. Y así es como va el poquito. Y una consulta, en el caso, después de pasar estos 12 años, si armacena el material genético ahora, cuáles el proceso o como es que se llama. Bueno, porque ya no sé. ¿Quieren... Ya pasó las pruebas y todo? ¿Entonces... ¿Quieres conocer? No, como... ¿Por qué no dan? ¿No dan sacado a campo? No sé. ¿No dan o se vacan? No, no, no. ¿Diamos cómo todavía está de manera vitrón como es usted? Ah, la tienen hasta cierto punto. No la... ¿Cómo es que se re... No sé si él es guarda... ¿Cuál es el material? Ah-ha. Ah, la... Ahí está. Ah-ha, gracias. Cuando yo tengo la prueba, se me comercial esta satisfacar. ¿Esta? De aquí, la variedad o la variedad es que se libera. Ah-ha, de aquí. Yo agarro de esta parte de aquí abajo o de cualquier parte. Se mienta y la meco aquí. Ah, esa es la meduda. Entonces acá es una semasena del tema de la gemía. O sea, todo una trejana de tipo. La verdad. Ok. Entonces aquí la tengo ya lista y ella empieza a hacerse mía de ella por un buen tiempo y la mantenen muy acá. Ah-ha, ok. Mientras ya forma parte del plan de reenomaciones, digamos, yo pongo una variedad que se liberó ya. Si tiene la dicha de la variedad de que ayer se liberó, yo acalicé el plan de reenomaciones hoy como la de a mi escuela y quedó en 10 lotes de esa yo y que si le toca reenomaciones de año, tiene la dicha de la variedad y a este año que viene y ya va a parllevar, y ya va a desligar a la conversa. Entonces me toca hacerse mía de un lado. Sí. Me toca. Entonces ya me pague la de reenomaciones y me ha tocado. Me ha tocado, me ha tocado, corre con algunas. Me toca, voy a dormir a un día.\n",
            "Audio transcrito: /content/drive/MyDrive/Proyectos/Transcribir a texto/Audios estandarizados/25.mp4\n",
            "Texto:  las acá, sino que me da tocar, correr como algunas y me toca hacerlas por la reproducción de plantulas, la única forma que no se encontraba y le aceleramos, pero a veces son lo que hay a tus peoridades, lo que a mi mi interesa es cocomando, no mi, a Maldalenes, que ya vaya a bater comerciales a Vario Elmón, correcto, porque vamos a tener los beneficios que nos dio ahora, pero a veces me cocomensare, la liberación de una Vario\n",
            "0\n",
            "Transcripción unificada mejorada guardada en: /content/drive/MyDrive/Proyectos/Transcribir a texto/Texto/transcripcion_unificada_mejorada_2024-09-24.txt\n",
            "Resumen guardado en: /content/drive/MyDrive/Proyectos/Transcribir a texto/Texto/resumen_2024-09-24.txt\n"
          ]
        }
      ]
    },
    {
      "cell_type": "code",
      "source": [
        "# Eliminar todos los archivos en la carpeta 'Entrada'\n",
        "for file in os.listdir(audios_path):\n",
        "    file_path = os.path.join(audios_path, file)\n",
        "    try:\n",
        "        if os.path.isfile(file_path):\n",
        "            os.remove(file_path)\n",
        "            print(f\"Eliminado: {file_path}\")\n",
        "    except Exception as e:\n",
        "        print(f\"Error al eliminar {file_path}: {e}\")"
      ],
      "metadata": {
        "colab": {
          "base_uri": "https://localhost:8080/"
        },
        "id": "Vd_K1LzFEaR2",
        "outputId": "195b5f70-c72e-47f3-8c85-add15b1279dc"
      },
      "execution_count": null,
      "outputs": [
        {
          "output_type": "stream",
          "name": "stdout",
          "text": [
            "Eliminado: /content/drive/MyDrive/Proyectos/Transcribir a texto/Audios estandarizados/1.mp4\n",
            "Eliminado: /content/drive/MyDrive/Proyectos/Transcribir a texto/Audios estandarizados/2.mp4\n",
            "Eliminado: /content/drive/MyDrive/Proyectos/Transcribir a texto/Audios estandarizados/3.mp4\n",
            "Eliminado: /content/drive/MyDrive/Proyectos/Transcribir a texto/Audios estandarizados/4.mp4\n",
            "Eliminado: /content/drive/MyDrive/Proyectos/Transcribir a texto/Audios estandarizados/5.mp4\n",
            "Eliminado: /content/drive/MyDrive/Proyectos/Transcribir a texto/Audios estandarizados/6.mp4\n",
            "Eliminado: /content/drive/MyDrive/Proyectos/Transcribir a texto/Audios estandarizados/7.mp4\n",
            "Eliminado: /content/drive/MyDrive/Proyectos/Transcribir a texto/Audios estandarizados/8.mp4\n",
            "Eliminado: /content/drive/MyDrive/Proyectos/Transcribir a texto/Audios estandarizados/9.mp4\n",
            "Eliminado: /content/drive/MyDrive/Proyectos/Transcribir a texto/Audios estandarizados/10.mp4\n",
            "Eliminado: /content/drive/MyDrive/Proyectos/Transcribir a texto/Audios estandarizados/11.mp4\n",
            "Eliminado: /content/drive/MyDrive/Proyectos/Transcribir a texto/Audios estandarizados/12.mp4\n",
            "Eliminado: /content/drive/MyDrive/Proyectos/Transcribir a texto/Audios estandarizados/13.mp4\n",
            "Eliminado: /content/drive/MyDrive/Proyectos/Transcribir a texto/Audios estandarizados/14.mp4\n",
            "Eliminado: /content/drive/MyDrive/Proyectos/Transcribir a texto/Audios estandarizados/15.mp4\n",
            "Eliminado: /content/drive/MyDrive/Proyectos/Transcribir a texto/Audios estandarizados/16.mp4\n",
            "Eliminado: /content/drive/MyDrive/Proyectos/Transcribir a texto/Audios estandarizados/17.mp4\n",
            "Eliminado: /content/drive/MyDrive/Proyectos/Transcribir a texto/Audios estandarizados/18.mp4\n",
            "Eliminado: /content/drive/MyDrive/Proyectos/Transcribir a texto/Audios estandarizados/19.mp4\n",
            "Eliminado: /content/drive/MyDrive/Proyectos/Transcribir a texto/Audios estandarizados/20.mp4\n",
            "Eliminado: /content/drive/MyDrive/Proyectos/Transcribir a texto/Audios estandarizados/21.mp4\n",
            "Eliminado: /content/drive/MyDrive/Proyectos/Transcribir a texto/Audios estandarizados/22.mp4\n",
            "Eliminado: /content/drive/MyDrive/Proyectos/Transcribir a texto/Audios estandarizados/23.mp4\n",
            "Eliminado: /content/drive/MyDrive/Proyectos/Transcribir a texto/Audios estandarizados/24.mp4\n",
            "Eliminado: /content/drive/MyDrive/Proyectos/Transcribir a texto/Audios estandarizados/25.mp4\n"
          ]
        }
      ]
    }
  ]
}